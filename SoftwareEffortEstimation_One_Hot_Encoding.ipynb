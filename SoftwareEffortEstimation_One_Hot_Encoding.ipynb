{
  "nbformat": 4,
  "nbformat_minor": 0,
  "metadata": {
    "colab": {
      "name": "SoftwareEffortEstimation_One-Hot-Encoding.ipynb",
      "provenance": [],
      "collapsed_sections": []
    },
    "kernelspec": {
      "name": "python3",
      "display_name": "Python 3"
    }
  },
  "cells": [
    {
      "cell_type": "code",
      "metadata": {
        "id": "i5htc4V9FWoz",
        "colab_type": "code",
        "outputId": "88bca7dd-983f-49b3-e8ec-3e4c4637e0b3",
        "colab": {
          "base_uri": "https://localhost:8080/",
          "height": 238
        }
      },
      "source": [
        "import pandas as pd\n",
        "# Load Data\n",
        "url = 'https://raw.githubusercontent.com/SEAnalytics/datasets/master/storypoint/IEEE%20TSE2018/dataset/mulestudio.csv'\n",
        "raw_data = pd.read_csv(url)\n",
        "raw_data.columns\n",
        "raw_data.head(6)"
      ],
      "execution_count": 2,
      "outputs": [
        {
          "output_type": "execute_result",
          "data": {
            "text/html": [
              "<div>\n",
              "<style scoped>\n",
              "    .dataframe tbody tr th:only-of-type {\n",
              "        vertical-align: middle;\n",
              "    }\n",
              "\n",
              "    .dataframe tbody tr th {\n",
              "        vertical-align: top;\n",
              "    }\n",
              "\n",
              "    .dataframe thead th {\n",
              "        text-align: right;\n",
              "    }\n",
              "</style>\n",
              "<table border=\"1\" class=\"dataframe\">\n",
              "  <thead>\n",
              "    <tr style=\"text-align: right;\">\n",
              "      <th></th>\n",
              "      <th>issuekey</th>\n",
              "      <th>title</th>\n",
              "      <th>description</th>\n",
              "      <th>storypoint</th>\n",
              "    </tr>\n",
              "  </thead>\n",
              "  <tbody>\n",
              "    <tr>\n",
              "      <th>0</th>\n",
              "      <td>STUDIO-95</td>\n",
              "      <td>Support for request/reply</td>\n",
              "      <td>request/reply  http://www.mulesoft.org/documen...</td>\n",
              "      <td>13</td>\n",
              "    </tr>\n",
              "    <tr>\n",
              "      <th>1</th>\n",
              "      <td>STUDIO-280</td>\n",
              "      <td>Cannot import a Studio project from Git withou...</td>\n",
              "      <td>Steps to reproduce:    1. Create a simple Mule...</td>\n",
              "      <td>3</td>\n",
              "    </tr>\n",
              "    <tr>\n",
              "      <th>2</th>\n",
              "      <td>STUDIO-382</td>\n",
              "      <td>Changes to Java code do not get hot deployed</td>\n",
              "      <td>Java source changes don't get picked up right ...</td>\n",
              "      <td>5</td>\n",
              "    </tr>\n",
              "    <tr>\n",
              "      <th>3</th>\n",
              "      <td>STUDIO-459</td>\n",
              "      <td>Unable to add a response when creating a secon...</td>\n",
              "      <td>Unable to add a response when creating a secon...</td>\n",
              "      <td>8</td>\n",
              "    </tr>\n",
              "    <tr>\n",
              "      <th>4</th>\n",
              "      <td>STUDIO-618</td>\n",
              "      <td>Namespaces in the XML view are not being remo...</td>\n",
              "      <td>When you add an element and then you remove it...</td>\n",
              "      <td>8</td>\n",
              "    </tr>\n",
              "    <tr>\n",
              "      <th>5</th>\n",
              "      <td>STUDIO-781</td>\n",
              "      <td>Would save time to be given the option to crea...</td>\n",
              "      <td>Add a button in the ClassFieldEditor to create...</td>\n",
              "      <td>5</td>\n",
              "    </tr>\n",
              "  </tbody>\n",
              "</table>\n",
              "</div>"
            ],
            "text/plain": [
              "     issuekey  ... storypoint\n",
              "0   STUDIO-95  ...         13\n",
              "1  STUDIO-280  ...          3\n",
              "2  STUDIO-382  ...          5\n",
              "3  STUDIO-459  ...          8\n",
              "4  STUDIO-618  ...          8\n",
              "5  STUDIO-781  ...          5\n",
              "\n",
              "[6 rows x 4 columns]"
            ]
          },
          "metadata": {
            "tags": []
          },
          "execution_count": 2
        }
      ]
    },
    {
      "cell_type": "code",
      "metadata": {
        "id": "io_XhNMpHRDG",
        "colab_type": "code",
        "outputId": "ff4120a3-a335-4782-91ea-8aca88d7eec9",
        "colab": {
          "base_uri": "https://localhost:8080/",
          "height": 107
        }
      },
      "source": [
        "# Check for missing values\n",
        "raw_data.isnull().sum()\n"
      ],
      "execution_count": 3,
      "outputs": [
        {
          "output_type": "execute_result",
          "data": {
            "text/plain": [
              "issuekey       0\n",
              "title          0\n",
              "description    0\n",
              "storypoint     0\n",
              "dtype: int64"
            ]
          },
          "metadata": {
            "tags": []
          },
          "execution_count": 3
        }
      ]
    },
    {
      "cell_type": "code",
      "metadata": {
        "id": "FTRFliXiIDzF",
        "colab_type": "code",
        "outputId": "a65589d6-f531-4267-d453-6463cddaaf30",
        "colab": {
          "base_uri": "https://localhost:8080/",
          "height": 178
        }
      },
      "source": [
        "\n",
        "# Examine storypoints summary statistics\n",
        "raw_data.storypoint.describe()"
      ],
      "execution_count": 4,
      "outputs": [
        {
          "output_type": "execute_result",
          "data": {
            "text/plain": [
              "count    732.000000\n",
              "mean       6.396175\n",
              "std        5.385687\n",
              "min        1.000000\n",
              "25%        3.000000\n",
              "50%        5.000000\n",
              "75%        8.000000\n",
              "max       34.000000\n",
              "Name: storypoint, dtype: float64"
            ]
          },
          "metadata": {
            "tags": []
          },
          "execution_count": 4
        }
      ]
    },
    {
      "cell_type": "code",
      "metadata": {
        "id": "7mwYp4JTITqW",
        "colab_type": "code",
        "outputId": "1fde2574-4223-4107-f42a-7cdb04f7aa24",
        "colab": {
          "base_uri": "https://localhost:8080/",
          "height": 295
        }
      },
      "source": [
        "# Visualize number of storypoints distribution\n",
        "import matplotlib.pyplot as plt\n",
        "plt.hist(raw_data.storypoint, bins=20, alpha=0.6, color='b')\n",
        "plt.title(\"#Items per Point\")\n",
        "plt.xlabel(\"Points\")\n",
        "plt.ylabel(\"Count\")\n",
        "plt.show()\n"
      ],
      "execution_count": 5,
      "outputs": [
        {
          "output_type": "display_data",
          "data": {
            "image/png": "[encoded data removed]",
            "text/plain": [
              "<Figure size 432x288 with 1 Axes>"
            ]
          },
          "metadata": {
            "tags": []
          }
        }
      ]
    },
    {
      "cell_type": "code",
      "metadata": {
        "id": "zJlSZo91I22w",
        "colab_type": "code",
        "outputId": "a7484536-91bb-4d62-e806-0e3d15cb2319",
        "colab": {
          "base_uri": "https://localhost:8080/",
          "height": 295
        }
      },
      "source": [
        "# Zoom in on most common data representing 75% of the dataset\n",
        "import numpy as np\n",
        "frequent_data = raw_data.query('storypoint <= 8')\n",
        "plt.hist(frequent_data.storypoint, bins=20, alpha=0.6, color='b')\n",
        "plt.title(\"#Items per Point\")\n",
        "plt.xlabel(\"Points\")\n",
        "plt.ylabel(\"Count\")\n",
        "plt.xticks(np.arange(0, 10, 1)) \n",
        "plt.show()"
      ],
      "execution_count": 6,
      "outputs": [
        {
          "output_type": "display_data",
          "data": {
            "image/png": "[encoded data removed]",
            "text/plain": [
              "<Figure size 432x288 with 1 Axes>"
            ]
          },
          "metadata": {
            "tags": []
          }
        }
      ]
    },
    {
      "cell_type": "code",
      "metadata": {
        "id": "nz9dOQdOMtPG",
        "colab_type": "code",
        "outputId": "8b971a67-0117-4c5c-9397-47118b9b19f4",
        "colab": {
          "base_uri": "https://localhost:8080/",
          "height": 232
        }
      },
      "source": [
        "# Examine distribution in detail\n",
        "raw_data.groupby('storypoint').size()"
      ],
      "execution_count": 7,
      "outputs": [
        {
          "output_type": "execute_result",
          "data": {
            "text/plain": [
              "storypoint\n",
              "1      61\n",
              "2      65\n",
              "3     121\n",
              "5     223\n",
              "8     157\n",
              "13     73\n",
              "15      2\n",
              "21     18\n",
              "26      1\n",
              "34     11\n",
              "dtype: int64"
            ]
          },
          "metadata": {
            "tags": []
          },
          "execution_count": 7
        }
      ]
    },
    {
      "cell_type": "markdown",
      "metadata": {
        "id": "eZXJYGV2NOKd",
        "colab_type": "text"
      },
      "source": [
        "This shows that 5 the most common number of storypoints assigned to an issue/requirement."
      ]
    },
    {
      "cell_type": "code",
      "metadata": {
        "id": "heESOd6eNrhh",
        "colab_type": "code",
        "outputId": "a3318bde-16d2-4306-956e-f3380ebfb871",
        "colab": {
          "base_uri": "https://localhost:8080/",
          "height": 107
        }
      },
      "source": [
        "################### Data Preprocessing ###################################\n",
        "\n",
        "import nltk\n",
        "from nltk.corpus import stopwords \n",
        "nltk.download('punkt')\n",
        "nltk.download('stopwords')\n",
        "\n",
        "# Tokenize\n",
        "raw_data['tokens'] = raw_data['description'].apply(lambda x : nltk.word_tokenize(x))\n",
        "\n",
        "type(raw_data['description'][0])\n",
        "\n",
        "\n"
      ],
      "execution_count": 9,
      "outputs": [
        {
          "output_type": "stream",
          "text": [
            "[nltk_data] Downloading package punkt to /root/nltk_data...\n",
            "[nltk_data]   Unzipping tokenizers/punkt.zip.\n",
            "[nltk_data] Downloading package stopwords to /root/nltk_data...\n",
            "[nltk_data]   Unzipping corpora/stopwords.zip.\n"
          ],
          "name": "stdout"
        },
        {
          "output_type": "execute_result",
          "data": {
            "text/plain": [
              "str"
            ]
          },
          "metadata": {
            "tags": []
          },
          "execution_count": 9
        }
      ]
    },
    {
      "cell_type": "code",
      "metadata": {
        "id": "2kHtPpwQqnym",
        "colab_type": "code",
        "outputId": "090a8d48-4610-4aae-d52d-8bb3725ac1ce",
        "colab": {
          "base_uri": "https://localhost:8080/",
          "height": 460
        }
      },
      "source": [
        "# Convert all words to lower case\n",
        "raw_data['tokens'] = raw_data['tokens'].apply(lambda x : [w.lower() for w in x])\n",
        "\n",
        "# Remove punctuation from each word\n",
        "import string\n",
        "table = str.maketrans('', '', string.punctuation)\n",
        "raw_data['tokens'] = raw_data['tokens'].apply(lambda x: [w.translate(table) for w in x])\n",
        "\n",
        "# Remove tokens that are not alphabetic\n",
        "raw_data['tokens'] = raw_data['tokens'].apply(lambda x: [w for w in x if w.isalpha()])\n",
        "\n",
        "# Remove stop words\n",
        "stop_words = stopwords.words('english')\n",
        "raw_data['tokens'] = raw_data['tokens'].apply(lambda x: [w for w in x if w not in stop_words])\n",
        "\n",
        "raw_data['tokens'] = raw_data['tokens'].apply(lambda x: nltk.Text(x))\n",
        "\n",
        "# Lemmatization\n",
        "nltk.download('wordnet')\n",
        "lemmatizer = nltk.WordNetLemmatizer()\n",
        "raw_data['tokens'] = raw_data['tokens'].apply(lambda x: [lemmatizer.lemmatize(w) for w in x ])\n",
        "\n",
        "# Stemming\n",
        "from nltk.stem.porter import PorterStemmer\n",
        "porter = PorterStemmer()\n",
        "raw_data['tokens'] = raw_data['tokens'].apply(lambda x: [porter.stem(w) for w in x ])\n",
        "\n",
        "\n",
        "raw_data"
      ],
      "execution_count": 10,
      "outputs": [
        {
          "output_type": "stream",
          "text": [
            "[nltk_data] Downloading package wordnet to /root/nltk_data...\n",
            "[nltk_data]   Unzipping corpora/wordnet.zip.\n"
          ],
          "name": "stdout"
        },
        {
          "output_type": "execute_result",
          "data": {
            "text/html": [
              "<div>\n",
              "<style scoped>\n",
              "    .dataframe tbody tr th:only-of-type {\n",
              "        vertical-align: middle;\n",
              "    }\n",
              "\n",
              "    .dataframe tbody tr th {\n",
              "        vertical-align: top;\n",
              "    }\n",
              "\n",
              "    .dataframe thead th {\n",
              "        text-align: right;\n",
              "    }\n",
              "</style>\n",
              "<table border=\"1\" class=\"dataframe\">\n",
              "  <thead>\n",
              "    <tr style=\"text-align: right;\">\n",
              "      <th></th>\n",
              "      <th>issuekey</th>\n",
              "      <th>title</th>\n",
              "      <th>description</th>\n",
              "      <th>storypoint</th>\n",
              "      <th>tokens</th>\n",
              "    </tr>\n",
              "  </thead>\n",
              "  <tbody>\n",
              "    <tr>\n",
              "      <th>0</th>\n",
              "      <td>STUDIO-95</td>\n",
              "      <td>Support for request/reply</td>\n",
              "      <td>request/reply  http://www.mulesoft.org/documen...</td>\n",
              "      <td>13</td>\n",
              "      <td>[requestrepli, http, wwwmulesoftorgdocumentati...</td>\n",
              "    </tr>\n",
              "    <tr>\n",
              "      <th>1</th>\n",
              "      <td>STUDIO-280</td>\n",
              "      <td>Cannot import a Studio project from Git withou...</td>\n",
              "      <td>Steps to reproduce:    1. Create a simple Mule...</td>\n",
              "      <td>3</td>\n",
              "      <td>[step, reproduc, creat, simpl, mule, studio, p...</td>\n",
              "    </tr>\n",
              "    <tr>\n",
              "      <th>2</th>\n",
              "      <td>STUDIO-382</td>\n",
              "      <td>Changes to Java code do not get hot deployed</td>\n",
              "      <td>Java source changes don't get picked up right ...</td>\n",
              "      <td>5</td>\n",
              "      <td>[java, sourc, chang, nt, get, pick, right, aut...</td>\n",
              "    </tr>\n",
              "    <tr>\n",
              "      <th>3</th>\n",
              "      <td>STUDIO-459</td>\n",
              "      <td>Unable to add a response when creating a secon...</td>\n",
              "      <td>Unable to add a response when creating a secon...</td>\n",
              "      <td>8</td>\n",
              "      <td>[unabl, add, respons, creat, second, flow, ste...</td>\n",
              "    </tr>\n",
              "    <tr>\n",
              "      <th>4</th>\n",
              "      <td>STUDIO-618</td>\n",
              "      <td>Namespaces in the XML view are not being remo...</td>\n",
              "      <td>When you add an element and then you remove it...</td>\n",
              "      <td>8</td>\n",
              "      <td>[add, element, remov, refer, schema, file, rem...</td>\n",
              "    </tr>\n",
              "    <tr>\n",
              "      <th>...</th>\n",
              "      <td>...</td>\n",
              "      <td>...</td>\n",
              "      <td>...</td>\n",
              "      <td>...</td>\n",
              "      <td>...</td>\n",
              "    </tr>\n",
              "    <tr>\n",
              "      <th>727</th>\n",
              "      <td>STUDIO-7360</td>\n",
              "      <td>Add support for changes on connectors editor.xml</td>\n",
              "      <td>When a Processor has a POJO as a parameter, di...</td>\n",
              "      <td>3</td>\n",
              "      <td>[processor, pojo, paramet, differ, option, com...</td>\n",
              "    </tr>\n",
              "    <tr>\n",
              "      <th>728</th>\n",
              "      <td>STUDIO-7386</td>\n",
              "      <td>API-GATEWAY Domain creation improvements in St...</td>\n",
              "      <td>When creating a Gateway project Studio automat...</td>\n",
              "      <td>5</td>\n",
              "      <td>[creat, gateway, project, studio, automat, cre...</td>\n",
              "    </tr>\n",
              "    <tr>\n",
              "      <th>729</th>\n",
              "      <td>STUDIO-7436</td>\n",
              "      <td>Allow studio to discover and instantiate Exten...</td>\n",
              "      <td>Allow studio to discover and instantiate Exten...</td>\n",
              "      <td>8</td>\n",
              "      <td>[allow, studio, discov, instanti, extensionmodel]</td>\n",
              "    </tr>\n",
              "    <tr>\n",
              "      <th>730</th>\n",
              "      <td>STUDIO-7479</td>\n",
              "      <td>Create mule 4 Studio Runtimes</td>\n",
              "      <td>Discuss were it will be hosted.  Verify if the...</td>\n",
              "      <td>3</td>\n",
              "      <td>[discu, host, verifi, structur, distribut, cha...</td>\n",
              "    </tr>\n",
              "    <tr>\n",
              "      <th>731</th>\n",
              "      <td>STUDIO-7487</td>\n",
              "      <td>Spike to verify support extension child elemen...</td>\n",
              "      <td>Currently Studio is not prepared to support ch...</td>\n",
              "      <td>5</td>\n",
              "      <td>[current, studio, prepar, support, child, elem...</td>\n",
              "    </tr>\n",
              "  </tbody>\n",
              "</table>\n",
              "<p>732 rows × 5 columns</p>\n",
              "</div>"
            ],
            "text/plain": [
              "        issuekey  ...                                             tokens\n",
              "0      STUDIO-95  ...  [requestrepli, http, wwwmulesoftorgdocumentati...\n",
              "1     STUDIO-280  ...  [step, reproduc, creat, simpl, mule, studio, p...\n",
              "2     STUDIO-382  ...  [java, sourc, chang, nt, get, pick, right, aut...\n",
              "3     STUDIO-459  ...  [unabl, add, respons, creat, second, flow, ste...\n",
              "4     STUDIO-618  ...  [add, element, remov, refer, schema, file, rem...\n",
              "..           ...  ...                                                ...\n",
              "727  STUDIO-7360  ...  [processor, pojo, paramet, differ, option, com...\n",
              "728  STUDIO-7386  ...  [creat, gateway, project, studio, automat, cre...\n",
              "729  STUDIO-7436  ...  [allow, studio, discov, instanti, extensionmodel]\n",
              "730  STUDIO-7479  ...  [discu, host, verifi, structur, distribut, cha...\n",
              "731  STUDIO-7487  ...  [current, studio, prepar, support, child, elem...\n",
              "\n",
              "[732 rows x 5 columns]"
            ]
          },
          "metadata": {
            "tags": []
          },
          "execution_count": 10
        }
      ]
    },
    {
      "cell_type": "code",
      "metadata": {
        "id": "IFWCW_Qmqktq",
        "colab_type": "code",
        "outputId": "54bce7ef-23ad-4c67-89a4-50ed514a5caa",
        "colab": {
          "base_uri": "https://localhost:8080/",
          "height": 35
        }
      },
      "source": [
        "# Vocabulary\n",
        "vocabulary = set([item for sublist in list(raw_data['tokens']) for item in sublist]) # list of unique words\n",
        "vocabulary_size = len(vocabulary)\n",
        "vocabulary_size"
      ],
      "execution_count": 11,
      "outputs": [
        {
          "output_type": "execute_result",
          "data": {
            "text/plain": [
              "2750"
            ]
          },
          "metadata": {
            "tags": []
          },
          "execution_count": 11
        }
      ]
    },
    {
      "cell_type": "code",
      "metadata": {
        "id": "OeRaact5A21z",
        "colab_type": "code",
        "colab": {}
      },
      "source": [
        "# Frequency distribution of words\n",
        "all_words = [item for sublist in list(raw_data['tokens']) for item in sublist]\n",
        "len(all_words)\n",
        "from nltk.probability import FreqDist\n",
        "fdist = FreqDist(all_words)\n"
      ],
      "execution_count": 0,
      "outputs": []
    },
    {
      "cell_type": "code",
      "metadata": {
        "id": "-wOhlAWORtLX",
        "colab_type": "code",
        "colab": {
          "base_uri": "https://localhost:8080/",
          "height": 160
        },
        "outputId": "b591aded-f5d8-4672-d093-64600fe57b06"
      },
      "source": [
        "list(raw_data['tokens'])[0]"
      ],
      "execution_count": 17,
      "outputs": [
        {
          "output_type": "execute_result",
          "data": {
            "text/plain": [
              "['requestrepli',\n",
              " 'http',\n",
              " 'wwwmulesoftorgdocumentationdisplaycurrentroutingmessageprocessor',\n",
              " 'routingmessageprocessorsrequestrepli',\n",
              " 'mockup',\n",
              " 'http',\n",
              " 'corpwikimulesourcecomdisplaywprequestrepli',\n",
              " 'requestreplymockup']"
            ]
          },
          "metadata": {
            "tags": []
          },
          "execution_count": 17
        }
      ]
    },
    {
      "cell_type": "code",
      "metadata": {
        "id": "Eoe7uNnJBP57",
        "colab_type": "code",
        "colab": {}
      },
      "source": [
        "# Frequency Distribution of Words Plot\n",
        "import matplotlib.pyplot as plt\n",
        "fdist.plot(30,cumulative=False)\n",
        "plt.show()"
      ],
      "execution_count": 0,
      "outputs": []
    },
    {
      "cell_type": "code",
      "metadata": {
        "id": "FFtZAxNylBa0",
        "colab_type": "code",
        "colab": {}
      },
      "source": [
        "# Split data into traning and testing\n",
        "split_ratio = 0.7\n",
        "total_number_of_datapoints = len(raw_data.index)\n",
        "train_number_of_datapoints = int(total_number_of_datapoints * split_ratio)\n",
        "\n",
        "train_set = raw_data.iloc[:train_number_of_datapoints, :]\n",
        "test_set = raw_data.iloc[train_number_of_datapoints:, :]"
      ],
      "execution_count": 0,
      "outputs": []
    },
    {
      "cell_type": "code",
      "metadata": {
        "id": "D5ad6_J0rx4n",
        "colab_type": "code",
        "colab": {}
      },
      "source": [
        "tokens = list(train_set['tokens'])\n",
        "tokens = [str(i) for i in tokens]\n",
        "tokens\n"
      ],
      "execution_count": 0,
      "outputs": []
    },
    {
      "cell_type": "markdown",
      "metadata": {
        "id": "HEKYSfYZnRpE",
        "colab_type": "text"
      },
      "source": [
        "Count Vectorization (One-Hot-Encoding)"
      ]
    },
    {
      "cell_type": "code",
      "metadata": {
        "id": "8_d9vB8skmO3",
        "colab_type": "code",
        "outputId": "cef75f82-3b8d-446e-8988-8f85498fd8a9",
        "colab": {
          "base_uri": "https://localhost:8080/",
          "height": 53
        }
      },
      "source": [
        "# Create our vectorizer\n",
        "vectorizer = CountVectorizer()\n",
        "vectors = vectorizer.fit_transform(list(train_set['description']))\n",
        "\n",
        "# Build the classifier\n",
        "clf = MultinomialNB(alpha=.01)\n",
        "\n",
        "#  Train the classifier\n",
        "clf.fit(vectors, train_set['storypoint'].values)\n",
        "\n",
        "# Get the test vectors\n",
        "vectors_test = vectorizer.transform(list(test_set['description']))\n",
        "\n",
        "# Predict and score the vectors\n",
        "pred = clf.predict(vectors_test)\n",
        "acc_score = metrics.accuracy_score( test_set['storypoint'].values, pred)\n",
        "f1_score = metrics.f1_score( test_set['storypoint'].values, pred, average='macro')\n",
        "\n",
        "print('Total accuracy classification score: {}'.format(acc_score))\n",
        "print('Total F1 classification score: {}'.format(f1_score))\n"
      ],
      "execution_count": 0,
      "outputs": [
        {
          "output_type": "stream",
          "text": [
            "Total accuracy classification score: 0.2318181818181818\n",
            "Total F1 classification score: 0.08581564542544987\n"
          ],
          "name": "stdout"
        }
      ]
    }
  ]
}