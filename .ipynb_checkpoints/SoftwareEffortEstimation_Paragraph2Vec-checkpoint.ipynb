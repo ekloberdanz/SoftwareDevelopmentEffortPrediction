{
 "cells": [
  {
   "cell_type": "code",
   "execution_count": 2,
   "metadata": {},
   "outputs": [
    {
     "data": {
      "text/plain": [
       "'/home/eliska/Iowa State/Semester4/SoftwareDevelopmentEffortPrediction'"
      ]
     },
     "execution_count": 2,
     "metadata": {},
     "output_type": "execute_result"
    }
   ],
   "source": [
    "pwd"
   ]
  },
  {
   "cell_type": "code",
   "execution_count": 3,
   "metadata": {
    "colab": {},
    "colab_type": "code",
    "id": "24TmmIGnrbxh"
   },
   "outputs": [],
   "source": [
    "import pandas as pd\n",
    "\n",
    "# Load paragraph to vector representation for software issue/request description\n",
    "paragraph2vec = pd.read_csv('/home/eliska/Iowa State/Semester4/SoftwareDevelopmentEffortPrediction/data/description_mulestudio_paragraph2vec.csv')"
   ]
  },
  {
   "cell_type": "code",
   "execution_count": 4,
   "metadata": {
    "colab": {
     "base_uri": "https://localhost:8080/",
     "height": 193
    },
    "colab_type": "code",
    "id": "3yDUpJZySSN3",
    "outputId": "d7a3c094-ce85-46be-ce01-b5ab04c7b766"
   },
   "outputs": [
    {
     "data": {
      "text/html": [
       "<div>\n",
       "<style scoped>\n",
       "    .dataframe tbody tr th:only-of-type {\n",
       "        vertical-align: middle;\n",
       "    }\n",
       "\n",
       "    .dataframe tbody tr th {\n",
       "        vertical-align: top;\n",
       "    }\n",
       "\n",
       "    .dataframe thead th {\n",
       "        text-align: right;\n",
       "    }\n",
       "</style>\n",
       "<table border=\"1\" class=\"dataframe\">\n",
       "  <thead>\n",
       "    <tr style=\"text-align: right;\">\n",
       "      <th></th>\n",
       "      <th>d0</th>\n",
       "      <th>d1</th>\n",
       "      <th>d2</th>\n",
       "      <th>d3</th>\n",
       "      <th>d4</th>\n",
       "      <th>d5</th>\n",
       "      <th>d6</th>\n",
       "      <th>d7</th>\n",
       "      <th>d8</th>\n",
       "      <th>d9</th>\n",
       "      <th>...</th>\n",
       "      <th>d90</th>\n",
       "      <th>d91</th>\n",
       "      <th>d92</th>\n",
       "      <th>d93</th>\n",
       "      <th>d94</th>\n",
       "      <th>d95</th>\n",
       "      <th>d96</th>\n",
       "      <th>d97</th>\n",
       "      <th>d98</th>\n",
       "      <th>d99</th>\n",
       "    </tr>\n",
       "  </thead>\n",
       "  <tbody>\n",
       "    <tr>\n",
       "      <th>0</th>\n",
       "      <td>0.576889</td>\n",
       "      <td>1.225717</td>\n",
       "      <td>-0.132388</td>\n",
       "      <td>0.683594</td>\n",
       "      <td>1.025558</td>\n",
       "      <td>0.830248</td>\n",
       "      <td>-0.703653</td>\n",
       "      <td>1.217715</td>\n",
       "      <td>-2.985223</td>\n",
       "      <td>-1.228847</td>\n",
       "      <td>...</td>\n",
       "      <td>-2.295969</td>\n",
       "      <td>1.827572</td>\n",
       "      <td>-0.593875</td>\n",
       "      <td>0.710982</td>\n",
       "      <td>2.321302</td>\n",
       "      <td>-0.724544</td>\n",
       "      <td>1.731966</td>\n",
       "      <td>-0.703333</td>\n",
       "      <td>3.295451</td>\n",
       "      <td>0.484775</td>\n",
       "    </tr>\n",
       "    <tr>\n",
       "      <th>1</th>\n",
       "      <td>0.601643</td>\n",
       "      <td>-2.288664</td>\n",
       "      <td>-0.968235</td>\n",
       "      <td>-0.880102</td>\n",
       "      <td>1.847187</td>\n",
       "      <td>-0.227512</td>\n",
       "      <td>-2.357242</td>\n",
       "      <td>1.138307</td>\n",
       "      <td>-1.024309</td>\n",
       "      <td>-1.683077</td>\n",
       "      <td>...</td>\n",
       "      <td>-1.176890</td>\n",
       "      <td>1.050870</td>\n",
       "      <td>1.363163</td>\n",
       "      <td>0.517003</td>\n",
       "      <td>0.051563</td>\n",
       "      <td>-2.250926</td>\n",
       "      <td>1.619871</td>\n",
       "      <td>-0.351533</td>\n",
       "      <td>0.868483</td>\n",
       "      <td>-0.319805</td>\n",
       "    </tr>\n",
       "    <tr>\n",
       "      <th>2</th>\n",
       "      <td>0.727340</td>\n",
       "      <td>-0.410245</td>\n",
       "      <td>1.089903</td>\n",
       "      <td>-2.333768</td>\n",
       "      <td>0.610838</td>\n",
       "      <td>-0.416082</td>\n",
       "      <td>0.138103</td>\n",
       "      <td>1.034674</td>\n",
       "      <td>0.041522</td>\n",
       "      <td>-1.302860</td>\n",
       "      <td>...</td>\n",
       "      <td>0.470553</td>\n",
       "      <td>-0.631051</td>\n",
       "      <td>-0.011831</td>\n",
       "      <td>-1.367297</td>\n",
       "      <td>-0.524886</td>\n",
       "      <td>-2.266130</td>\n",
       "      <td>1.751611</td>\n",
       "      <td>0.762793</td>\n",
       "      <td>-0.787760</td>\n",
       "      <td>-0.677501</td>\n",
       "    </tr>\n",
       "  </tbody>\n",
       "</table>\n",
       "<p>3 rows × 100 columns</p>\n",
       "</div>"
      ],
      "text/plain": [
       "         d0        d1        d2        d3        d4        d5        d6  \\\n",
       "0  0.576889  1.225717 -0.132388  0.683594  1.025558  0.830248 -0.703653   \n",
       "1  0.601643 -2.288664 -0.968235 -0.880102  1.847187 -0.227512 -2.357242   \n",
       "2  0.727340 -0.410245  1.089903 -2.333768  0.610838 -0.416082  0.138103   \n",
       "\n",
       "         d7        d8        d9  ...       d90       d91       d92       d93  \\\n",
       "0  1.217715 -2.985223 -1.228847  ... -2.295969  1.827572 -0.593875  0.710982   \n",
       "1  1.138307 -1.024309 -1.683077  ... -1.176890  1.050870  1.363163  0.517003   \n",
       "2  1.034674  0.041522 -1.302860  ...  0.470553 -0.631051 -0.011831 -1.367297   \n",
       "\n",
       "        d94       d95       d96       d97       d98       d99  \n",
       "0  2.321302 -0.724544  1.731966 -0.703333  3.295451  0.484775  \n",
       "1  0.051563 -2.250926  1.619871 -0.351533  0.868483 -0.319805  \n",
       "2 -0.524886 -2.266130  1.751611  0.762793 -0.787760 -0.677501  \n",
       "\n",
       "[3 rows x 100 columns]"
      ]
     },
     "execution_count": 4,
     "metadata": {},
     "output_type": "execute_result"
    }
   ],
   "source": [
    "paragraph2vec.head(3)"
   ]
  },
  {
   "cell_type": "code",
   "execution_count": 5,
   "metadata": {
    "colab": {},
    "colab_type": "code",
    "id": "1nf0ZBCYsT_K"
   },
   "outputs": [],
   "source": [
    "url = 'https://raw.githubusercontent.com/SEAnalytics/datasets/master/storypoint/IEEE%20TSE2018/dataset/mulestudio.csv'\n",
    "raw_data = pd.read_csv(url)\n",
    "raw_data.columns\n",
    "\n",
    "raw_data.loc[raw_data.storypoint <= 2, 'storypoint'] = 0 #small\n",
    "raw_data.loc[(raw_data.storypoint > 2) & (raw_data.storypoint <= 5), 'storypoint'] = 1 #medium\n",
    "raw_data.loc[raw_data.storypoint > 5, 'storypoint'] = 2 #big\n",
    "\n",
    "y = raw_data['storypoint']"
   ]
  },
  {
   "cell_type": "code",
   "execution_count": 6,
   "metadata": {
    "colab": {},
    "colab_type": "code",
    "id": "unpgiSIWsULl"
   },
   "outputs": [],
   "source": [
    "# 80% of data goes to training\n",
    "from sklearn.model_selection import train_test_split\n",
    "X_train, X_test, y_train, y_test = train_test_split(paragraph2vec, y, test_size = 0.2, random_state = 10)"
   ]
  },
  {
   "cell_type": "code",
   "execution_count": 8,
   "metadata": {
    "colab": {
     "base_uri": "https://localhost:8080/",
     "height": 89
    },
    "colab_type": "code",
    "id": "nZv5rKCesFfi",
    "outputId": "56e47528-1274-4702-b302-f490dd52df46"
   },
   "outputs": [
    {
     "name": "stderr",
     "output_type": "stream",
     "text": [
      "/home/eliska/CS/VirtEnv/venv/lib/python3.5/site-packages/xgboost/__init__.py:28: FutureWarning: Python 3.5 support is deprecated; XGBoost will require Python 3.6+ in the near future. Consider upgrading to Python 3.6+.\n",
      "  FutureWarning)\n"
     ]
    },
    {
     "name": "stdout",
     "output_type": "stream",
     "text": [
      "Total accuracy classification score: 0.3945578231292517\n"
     ]
    }
   ],
   "source": [
    "from sklearn.metrics import mean_squared_error\n",
    "import xgboost as xgb\n",
    "# Instantiate an XGBRegressor\n",
    "xgr = xgb.XGBRegressor(random_state=2)\n",
    "\n",
    "# Fit the classifier to the training set\n",
    "xgr.fit(X_train, y_train)\n",
    "\n",
    "y_pred = xgr.predict(X_test)\n",
    "\n",
    "mean_squared_error(y_test, y_pred)\n",
    "\n",
    "# Accuracy\n",
    "y_pred_rounded = [round(prediction,0) for prediction in y_pred ]\n",
    "y_pred_rounded = [int(prediction) for prediction in y_pred_rounded]\n",
    "\n",
    "from sklearn import metrics\n",
    "acc_score = metrics.accuracy_score(y_test, y_pred_rounded)\n",
    "print('Total accuracy classification score: {}'.format(acc_score))"
   ]
  },
  {
   "cell_type": "code",
   "execution_count": 9,
   "metadata": {
    "colab": {
     "base_uri": "https://localhost:8080/",
     "height": 35
    },
    "colab_type": "code",
    "id": "ayA8t22psxC2",
    "outputId": "55954497-07ee-4910-9a71-65e97b7d6560"
   },
   "outputs": [
    {
     "name": "stdout",
     "output_type": "stream",
     "text": [
      "Total accuracy classification score: 0.3333333333333333\n"
     ]
    }
   ],
   "source": [
    "# Build the classifier\n",
    "from sklearn.naive_bayes import GaussianNB\n",
    "clf = GaussianNB()\n",
    "\n",
    "# Fit the classifier to the training set\n",
    "clf.fit(X_train, y_train)\n",
    "y_pred = clf.predict(X_test)\n",
    "\n",
    "# Accuracy\n",
    "from sklearn import metrics\n",
    "acc_score = metrics.accuracy_score(y_test, y_pred)\n",
    "print('Total accuracy classification score: {}'.format(acc_score))"
   ]
  },
  {
   "cell_type": "code",
   "execution_count": null,
   "metadata": {
    "colab": {},
    "colab_type": "code",
    "id": "BPAIk3qESJ62"
   },
   "outputs": [],
   "source": []
  }
 ],
 "metadata": {
  "colab": {
   "name": "SoftwareEffortEstimation_Paragraph2Vec.ipynb",
   "provenance": []
  },
  "kernelspec": {
   "display_name": "Python 3",
   "language": "python",
   "name": "python3"
  },
  "language_info": {
   "codemirror_mode": {
    "name": "ipython",
    "version": 3
   },
   "file_extension": ".py",
   "mimetype": "text/x-python",
   "name": "python",
   "nbconvert_exporter": "python",
   "pygments_lexer": "ipython3",
   "version": "3.5.2"
  }
 },
 "nbformat": 4,
 "nbformat_minor": 1
}
