{
  "nbformat": 4,
  "nbformat_minor": 0,
  "metadata": {
    "colab": {
      "name": "SoftwareEffortEstimation_Categories.ipynb",
      "provenance": [],
      "collapsed_sections": []
    },
    "kernelspec": {
      "display_name": "Python 3",
      "language": "python",
      "name": "python3"
    },
    "language_info": {
      "codemirror_mode": {
        "name": "ipython",
        "version": 3
      },
      "file_extension": ".py",
      "mimetype": "text/x-python",
      "name": "python",
      "nbconvert_exporter": "python",
      "pygments_lexer": "ipython3",
      "version": "3.6.9"
    }
  },
  "cells": [
    {
      "cell_type": "code",
      "metadata": {
        "colab_type": "code",
        "id": "i5htc4V9FWoz",
        "outputId": "ca64fd22-097b-4473-c093-454db339b6f6",
        "colab": {
          "base_uri": "https://localhost:8080/",
          "height": 238
        }
      },
      "source": [
        "import pandas as pd\n",
        "# Load Data\n",
        "url = 'https://raw.githubusercontent.com/SEAnalytics/datasets/master/storypoint/IEEE%20TSE2018/dataset/mulestudio.csv'\n",
        "raw_data = pd.read_csv(url)\n",
        "raw_data.columns\n",
        "raw_data.head(6)"
      ],
      "execution_count": 25,
      "outputs": [
        {
          "output_type": "execute_result",
          "data": {
            "text/html": [
              "<div>\n",
              "<style scoped>\n",
              "    .dataframe tbody tr th:only-of-type {\n",
              "        vertical-align: middle;\n",
              "    }\n",
              "\n",
              "    .dataframe tbody tr th {\n",
              "        vertical-align: top;\n",
              "    }\n",
              "\n",
              "    .dataframe thead th {\n",
              "        text-align: right;\n",
              "    }\n",
              "</style>\n",
              "<table border=\"1\" class=\"dataframe\">\n",
              "  <thead>\n",
              "    <tr style=\"text-align: right;\">\n",
              "      <th></th>\n",
              "      <th>issuekey</th>\n",
              "      <th>title</th>\n",
              "      <th>description</th>\n",
              "      <th>storypoint</th>\n",
              "    </tr>\n",
              "  </thead>\n",
              "  <tbody>\n",
              "    <tr>\n",
              "      <th>0</th>\n",
              "      <td>STUDIO-95</td>\n",
              "      <td>Support for request/reply</td>\n",
              "      <td>request/reply  http://www.mulesoft.org/documen...</td>\n",
              "      <td>13</td>\n",
              "    </tr>\n",
              "    <tr>\n",
              "      <th>1</th>\n",
              "      <td>STUDIO-280</td>\n",
              "      <td>Cannot import a Studio project from Git withou...</td>\n",
              "      <td>Steps to reproduce:    1. Create a simple Mule...</td>\n",
              "      <td>3</td>\n",
              "    </tr>\n",
              "    <tr>\n",
              "      <th>2</th>\n",
              "      <td>STUDIO-382</td>\n",
              "      <td>Changes to Java code do not get hot deployed</td>\n",
              "      <td>Java source changes don't get picked up right ...</td>\n",
              "      <td>5</td>\n",
              "    </tr>\n",
              "    <tr>\n",
              "      <th>3</th>\n",
              "      <td>STUDIO-459</td>\n",
              "      <td>Unable to add a response when creating a secon...</td>\n",
              "      <td>Unable to add a response when creating a secon...</td>\n",
              "      <td>8</td>\n",
              "    </tr>\n",
              "    <tr>\n",
              "      <th>4</th>\n",
              "      <td>STUDIO-618</td>\n",
              "      <td>Namespaces in the XML view are not being remo...</td>\n",
              "      <td>When you add an element and then you remove it...</td>\n",
              "      <td>8</td>\n",
              "    </tr>\n",
              "    <tr>\n",
              "      <th>5</th>\n",
              "      <td>STUDIO-781</td>\n",
              "      <td>Would save time to be given the option to crea...</td>\n",
              "      <td>Add a button in the ClassFieldEditor to create...</td>\n",
              "      <td>5</td>\n",
              "    </tr>\n",
              "  </tbody>\n",
              "</table>\n",
              "</div>"
            ],
            "text/plain": [
              "     issuekey  ... storypoint\n",
              "0   STUDIO-95  ...         13\n",
              "1  STUDIO-280  ...          3\n",
              "2  STUDIO-382  ...          5\n",
              "3  STUDIO-459  ...          8\n",
              "4  STUDIO-618  ...          8\n",
              "5  STUDIO-781  ...          5\n",
              "\n",
              "[6 rows x 4 columns]"
            ]
          },
          "metadata": {
            "tags": []
          },
          "execution_count": 25
        }
      ]
    },
    {
      "cell_type": "code",
      "metadata": {
        "colab_type": "code",
        "id": "io_XhNMpHRDG",
        "outputId": "e797a940-5809-445f-96b2-b0d64df254ef",
        "colab": {
          "base_uri": "https://localhost:8080/",
          "height": 107
        }
      },
      "source": [
        "# Check for missing values\n",
        "raw_data.isnull().sum()\n"
      ],
      "execution_count": 2,
      "outputs": [
        {
          "output_type": "execute_result",
          "data": {
            "text/plain": [
              "issuekey       0\n",
              "title          0\n",
              "description    0\n",
              "storypoint     0\n",
              "dtype: int64"
            ]
          },
          "metadata": {
            "tags": []
          },
          "execution_count": 2
        }
      ]
    },
    {
      "cell_type": "code",
      "metadata": {
        "colab_type": "code",
        "id": "FTRFliXiIDzF",
        "outputId": "4ef51f20-4fb2-4747-ada7-3d7593eec9a5",
        "colab": {
          "base_uri": "https://localhost:8080/",
          "height": 178
        }
      },
      "source": [
        "\n",
        "# Examine storypoints summary statistics\n",
        "raw_data.storypoint.describe()"
      ],
      "execution_count": 3,
      "outputs": [
        {
          "output_type": "execute_result",
          "data": {
            "text/plain": [
              "count    732.000000\n",
              "mean       6.396175\n",
              "std        5.385687\n",
              "min        1.000000\n",
              "25%        3.000000\n",
              "50%        5.000000\n",
              "75%        8.000000\n",
              "max       34.000000\n",
              "Name: storypoint, dtype: float64"
            ]
          },
          "metadata": {
            "tags": []
          },
          "execution_count": 3
        }
      ]
    },
    {
      "cell_type": "code",
      "metadata": {
        "colab_type": "code",
        "id": "7mwYp4JTITqW",
        "outputId": "69e3a868-74e2-4232-bd2d-09f63b791cba",
        "colab": {
          "base_uri": "https://localhost:8080/",
          "height": 295
        }
      },
      "source": [
        "# Visualize number of storypoints distribution\n",
        "import matplotlib.pyplot as plt\n",
        "plt.hist(raw_data.storypoint, bins=20, alpha=0.6, color='b')\n",
        "plt.title(\"#Items per Point\")\n",
        "plt.xlabel(\"Points\")\n",
        "plt.ylabel(\"Count\")\n",
        "plt.show()\n"
      ],
      "execution_count": 4,
      "outputs": [
        {
          "output_type": "display_data",
          "data": {
            "image/png": "[encoded data removed]",
            "text/plain": [
              "<Figure size 432x288 with 1 Axes>"
            ]
          },
          "metadata": {
            "tags": []
          }
        }
      ]
    },
    {
      "cell_type": "code",
      "metadata": {
        "colab_type": "code",
        "id": "zJlSZo91I22w",
        "outputId": "e061448f-8005-4afd-b300-424e60cfb1a7",
        "colab": {
          "base_uri": "https://localhost:8080/",
          "height": 295
        }
      },
      "source": [
        "# Zoom in on most common data representing 75% of the dataset\n",
        "import numpy as np\n",
        "frequent_data = raw_data.query('storypoint <= 8')\n",
        "plt.hist(frequent_data.storypoint, bins=20, alpha=0.6, color='b')\n",
        "plt.title(\"#Items per Point\")\n",
        "plt.xlabel(\"Points\")\n",
        "plt.ylabel(\"Count\")\n",
        "plt.xticks(np.arange(0, 10, 1)) \n",
        "plt.show()"
      ],
      "execution_count": 5,
      "outputs": [
        {
          "output_type": "display_data",
          "data": {
            "image/png": "[encoded data removed]",
            "text/plain": [
              "<Figure size 432x288 with 1 Axes>"
            ]
          },
          "metadata": {
            "tags": []
          }
        }
      ]
    },
    {
      "cell_type": "code",
      "metadata": {
        "colab_type": "code",
        "id": "nz9dOQdOMtPG",
        "outputId": "5cd852fa-5af2-497f-f33a-539fa018466d",
        "colab": {
          "base_uri": "https://localhost:8080/",
          "height": 232
        }
      },
      "source": [
        "# Examine distribution in detail\n",
        "raw_data.groupby('storypoint').size()"
      ],
      "execution_count": 6,
      "outputs": [
        {
          "output_type": "execute_result",
          "data": {
            "text/plain": [
              "storypoint\n",
              "1      61\n",
              "2      65\n",
              "3     121\n",
              "5     223\n",
              "8     157\n",
              "13     73\n",
              "15      2\n",
              "21     18\n",
              "26      1\n",
              "34     11\n",
              "dtype: int64"
            ]
          },
          "metadata": {
            "tags": []
          },
          "execution_count": 6
        }
      ]
    },
    {
      "cell_type": "code",
      "metadata": {
        "id": "7Wft3iL3Z_cD",
        "colab_type": "code",
        "colab": {
          "base_uri": "https://localhost:8080/",
          "height": 35
        },
        "outputId": "de144b70-ef0a-4837-b16f-e0e392412320"
      },
      "source": [
        "average_storypoints = raw_data['storypoint'].mean()\n",
        "average_storypoints"
      ],
      "execution_count": 7,
      "outputs": [
        {
          "output_type": "execute_result",
          "data": {
            "text/plain": [
              "6.396174863387978"
            ]
          },
          "metadata": {
            "tags": []
          },
          "execution_count": 7
        }
      ]
    },
    {
      "cell_type": "code",
      "metadata": {
        "id": "JGEa7b5XZ_cI",
        "colab_type": "code",
        "colab": {
          "base_uri": "https://localhost:8080/",
          "height": 125
        },
        "outputId": "c9445efe-4bcc-46b5-d4dd-b709b4e69059"
      },
      "source": [
        "#Categories: small = 1 - 3, medium = 4 - 8, large = 9 - max\n",
        "\n",
        "raw_data.loc[raw_data.storypoint <= 2, 'storypoint'] = 0 #small\n",
        "raw_data.loc[(raw_data.storypoint > 2) & (raw_data.storypoint <= 8), 'storypoint'] = 1 #medium\n",
        "raw_data.loc[(raw_data.storypoint > 8) & (raw_data.storypoint <= 15), 'storypoint'] = 2 #large\n",
        "raw_data.loc[raw_data.storypoint > 15, 'storypoint'] = 3 #very large\n",
        "raw_data.groupby('storypoint').size()\n",
        "\n"
      ],
      "execution_count": 26,
      "outputs": [
        {
          "output_type": "execute_result",
          "data": {
            "text/plain": [
              "storypoint\n",
              "0    126\n",
              "1    501\n",
              "2     75\n",
              "3     30\n",
              "dtype: int64"
            ]
          },
          "metadata": {
            "tags": []
          },
          "execution_count": 26
        }
      ]
    },
    {
      "cell_type": "markdown",
      "metadata": {
        "colab_type": "text",
        "id": "eZXJYGV2NOKd"
      },
      "source": [
        "This shows that 5 the most common number of storypoints assigned to an issue/requirement."
      ]
    },
    {
      "cell_type": "code",
      "metadata": {
        "colab_type": "code",
        "id": "heESOd6eNrhh",
        "outputId": "a77c29a1-cc4a-4dbb-e4e4-53bad5177c23",
        "colab": {
          "base_uri": "https://localhost:8080/",
          "height": 107
        }
      },
      "source": [
        "################### Data Preprocessing ###################################\n",
        "\n",
        "import nltk\n",
        "from nltk.corpus import stopwords \n",
        "nltk.download('punkt')\n",
        "nltk.download('stopwords')\n",
        "\n",
        "# Tokenize\n",
        "raw_data['tokens'] = raw_data['description'].apply(lambda x : nltk.word_tokenize(x))\n",
        "\n",
        "type(raw_data['description'][0])\n",
        "\n",
        "\n"
      ],
      "execution_count": 27,
      "outputs": [
        {
          "output_type": "stream",
          "text": [
            "[nltk_data] Downloading package punkt to /root/nltk_data...\n",
            "[nltk_data]   Package punkt is already up-to-date!\n",
            "[nltk_data] Downloading package stopwords to /root/nltk_data...\n",
            "[nltk_data]   Package stopwords is already up-to-date!\n"
          ],
          "name": "stdout"
        },
        {
          "output_type": "execute_result",
          "data": {
            "text/plain": [
              "str"
            ]
          },
          "metadata": {
            "tags": []
          },
          "execution_count": 27
        }
      ]
    },
    {
      "cell_type": "code",
      "metadata": {
        "colab_type": "code",
        "id": "2kHtPpwQqnym",
        "outputId": "fa5d629c-a6b2-4b9f-dea6-5df2cf892651",
        "colab": {
          "base_uri": "https://localhost:8080/",
          "height": 53
        }
      },
      "source": [
        "# Convert all words to lower case\n",
        "raw_data['tokens'] = raw_data['tokens'].apply(lambda x : [w.lower() for w in x])\n",
        "\n",
        "# Remove punctuation from each word\n",
        "import string\n",
        "table = str.maketrans('', '', string.punctuation)\n",
        "raw_data['tokens'] = raw_data['tokens'].apply(lambda x: [w.translate(table) for w in x])\n",
        "\n",
        "# Remove tokens that are not alphabetic\n",
        "raw_data['tokens'] = raw_data['tokens'].apply(lambda x: [w for w in x if w.isalpha()])\n",
        "\n",
        "# Remove stop words\n",
        "stop_words = stopwords.words('english')\n",
        "raw_data['tokens'] = raw_data['tokens'].apply(lambda x: [w for w in x if w not in stop_words])\n",
        "# Remove project specific stop words\n",
        "specific_stop_words = ['http', 'mule', 'studio']\n",
        "raw_data['tokens'] = raw_data['tokens'].apply(lambda x: [w for w in x if w not in specific_stop_words])\n",
        "raw_data['tokens'] = raw_data['tokens'].apply(lambda x: nltk.Text(x))\n",
        "\n",
        "# Lemmatization\n",
        "nltk.download('wordnet')\n",
        "lemmatizer = nltk.WordNetLemmatizer()\n",
        "raw_data['tokens'] = raw_data['tokens'].apply(lambda x: [lemmatizer.lemmatize(w) for w in x ])\n",
        "\n",
        "# Stemming\n",
        "from nltk.stem.porter import PorterStemmer\n",
        "porter = PorterStemmer()\n",
        "raw_data['tokens'] = raw_data['tokens'].apply(lambda x: [porter.stem(w) for w in x ])\n"
      ],
      "execution_count": 28,
      "outputs": [
        {
          "output_type": "stream",
          "text": [
            "[nltk_data] Downloading package wordnet to /root/nltk_data...\n",
            "[nltk_data]   Package wordnet is already up-to-date!\n"
          ],
          "name": "stdout"
        }
      ]
    },
    {
      "cell_type": "code",
      "metadata": {
        "colab_type": "code",
        "id": "IFWCW_Qmqktq",
        "outputId": "56883ed1-deed-4a3e-9fa3-de9a20a563f7",
        "colab": {
          "base_uri": "https://localhost:8080/",
          "height": 35
        }
      },
      "source": [
        "# Vocabulary\n",
        "vocabulary = set([item for sublist in list(raw_data['tokens']) for item in sublist]) # list of unique words\n",
        "vocabulary_size = len(vocabulary)\n",
        "vocabulary_size"
      ],
      "execution_count": 29,
      "outputs": [
        {
          "output_type": "execute_result",
          "data": {
            "text/plain": [
              "2748"
            ]
          },
          "metadata": {
            "tags": []
          },
          "execution_count": 29
        }
      ]
    },
    {
      "cell_type": "code",
      "metadata": {
        "colab_type": "code",
        "id": "OeRaact5A21z",
        "colab": {}
      },
      "source": [
        "# Frequency distribution of words\n",
        "all_words = [item for sublist in list(raw_data['tokens']) for item in sublist]\n",
        "len(all_words)\n",
        "from nltk.probability import FreqDist\n",
        "fdist = FreqDist(all_words)\n"
      ],
      "execution_count": 0,
      "outputs": []
    },
    {
      "cell_type": "code",
      "metadata": {
        "colab_type": "code",
        "id": "-wOhlAWORtLX",
        "outputId": "70851c5d-e8a6-4670-c7f8-5630ab148b26",
        "colab": {
          "base_uri": "https://localhost:8080/",
          "height": 125
        }
      },
      "source": [
        "list(raw_data['tokens'])[0]"
      ],
      "execution_count": 31,
      "outputs": [
        {
          "output_type": "execute_result",
          "data": {
            "text/plain": [
              "['requestrepli',\n",
              " 'wwwmulesoftorgdocumentationdisplaycurrentroutingmessageprocessor',\n",
              " 'routingmessageprocessorsrequestrepli',\n",
              " 'mockup',\n",
              " 'corpwikimulesourcecomdisplaywprequestrepli',\n",
              " 'requestreplymockup']"
            ]
          },
          "metadata": {
            "tags": []
          },
          "execution_count": 31
        }
      ]
    },
    {
      "cell_type": "code",
      "metadata": {
        "colab_type": "code",
        "id": "Eoe7uNnJBP57",
        "colab": {
          "base_uri": "https://localhost:8080/",
          "height": 319
        },
        "outputId": "4baffc9f-896c-409d-c4e7-4294b4c4726c"
      },
      "source": [
        "# Frequency Distribution of Words Plot\n",
        "import matplotlib.pyplot as plt\n",
        "fdist.plot(30,cumulative=False)\n",
        "plt.show()"
      ],
      "execution_count": 32,
      "outputs": [
        {
          "output_type": "display_data",
          "data": {
            "image/png": "[encoded data removed]",
            "text/plain": [
              "<Figure size 432x288 with 1 Axes>"
            ]
          },
          "metadata": {
            "tags": []
          }
        }
      ]
    },
    {
      "cell_type": "code",
      "metadata": {
        "colab_type": "code",
        "id": "FFtZAxNylBa0",
        "colab": {}
      },
      "source": [
        "# Split data into traning and testing\n",
        "split_ratio = 0.7\n",
        "total_number_of_datapoints = len(raw_data.index)\n",
        "train_number_of_datapoints = int(total_number_of_datapoints * split_ratio)\n",
        "\n",
        "train_set = raw_data.iloc[:train_number_of_datapoints, :]\n",
        "test_set = raw_data.iloc[train_number_of_datapoints:, :]"
      ],
      "execution_count": 0,
      "outputs": []
    },
    {
      "cell_type": "code",
      "metadata": {
        "colab_type": "code",
        "id": "D5ad6_J0rx4n",
        "colab": {}
      },
      "source": [
        "tokens = list(train_set['tokens'])\n",
        "tokens = [str(i) for i in tokens]"
      ],
      "execution_count": 0,
      "outputs": []
    },
    {
      "cell_type": "markdown",
      "metadata": {
        "colab_type": "text",
        "id": "HEKYSfYZnRpE"
      },
      "source": [
        "Count Vectorization (One-Hot-Encoding)"
      ]
    },
    {
      "cell_type": "code",
      "metadata": {
        "colab_type": "code",
        "id": "8_d9vB8skmO3",
        "outputId": "b6eebb6c-509d-4f45-99aa-400f1afa382b",
        "colab": {
          "base_uri": "https://localhost:8080/",
          "height": 53
        }
      },
      "source": [
        "# Create our vectorizer\n",
        "from sklearn.feature_extraction.text import CountVectorizer\n",
        "vectorizer = CountVectorizer()\n",
        "vectors = vectorizer.fit_transform(list(train_set['description']))\n",
        "\n",
        "# Build the classifier\n",
        "from sklearn.naive_bayes import MultinomialNB\n",
        "clf = MultinomialNB(alpha=.01)\n",
        "\n",
        "#  Train the classifier\n",
        "clf.fit(vectors, train_set['storypoint'].values)\n",
        "\n",
        "# Get the test vectors\n",
        "vectors_test = vectorizer.transform(list(test_set['description']))\n",
        "\n",
        "# Predict and score the vectors\n",
        "from sklearn import metrics\n",
        "pred = clf.predict(vectors_test)\n",
        "acc_score = metrics.accuracy_score( test_set['storypoint'].values, pred)\n",
        "f1_score = metrics.f1_score( test_set['storypoint'].values, pred, average='macro')\n",
        "\n",
        "print('Total accuracy classification score: {}'.format(acc_score))\n",
        "print('Total F1 classification score: {}'.format(f1_score))\n"
      ],
      "execution_count": 35,
      "outputs": [
        {
          "output_type": "stream",
          "text": [
            "Total accuracy classification score: 0.5818181818181818\n",
            "Total F1 classification score: 0.28412883234770264\n"
          ],
          "name": "stdout"
        }
      ]
    },
    {
      "cell_type": "markdown",
      "metadata": {
        "id": "GZqvYfAvaFNk",
        "colab_type": "text"
      },
      "source": [
        "Word2Vec"
      ]
    },
    {
      "cell_type": "code",
      "metadata": {
        "id": "_FMxd7RPZ_dA",
        "colab_type": "code",
        "colab": {}
      },
      "source": [
        "import gensim\n",
        "# Load word2vec model (trained on an enormous Google corpus)\n",
        "model = gensim.models.KeyedVectors.load_word2vec_format('https://s3.amazonaws.com/dl4j-distribution/GoogleNews-vectors-negative300.bin.gz', binary = True) \n",
        "\n"
      ],
      "execution_count": 0,
      "outputs": []
    },
    {
      "cell_type": "code",
      "metadata": {
        "id": "9yMnGQ0ebb-V",
        "colab_type": "code",
        "colab": {
          "base_uri": "https://localhost:8080/",
          "height": 35
        },
        "outputId": "d597eda6-1aad-488f-ef6d-a427524c5567"
      },
      "source": [
        "# Check dimension of word vectors\n",
        "model.vector_size\n",
        "\n"
      ],
      "execution_count": 19,
      "outputs": [
        {
          "output_type": "execute_result",
          "data": {
            "text/plain": [
              "300"
            ]
          },
          "metadata": {
            "tags": []
          },
          "execution_count": 19
        }
      ]
    },
    {
      "cell_type": "code",
      "metadata": {
        "id": "1KiOpZ8BbiY1",
        "colab_type": "code",
        "colab": {
          "base_uri": "https://localhost:8080/",
          "height": 408
        },
        "outputId": "f2a9dff6-85ac-4cff-8a89-dfa7608edf1e"
      },
      "source": [
        "import nltk\n",
        "from nltk.corpus import stopwords \n",
        "nltk.download('punkt')\n",
        "nltk.download('stopwords')\n",
        "\n",
        "issue_titles = raw_data['title']\n",
        "issue_descriptions = raw_data['description']\n",
        "\n",
        "# cocat title and description\n",
        "titles_and_descriptions = raw_data['title'] + raw_data['description']\n",
        "\n",
        "# Create a list of strings, one for each title\n",
        "#titles_list = [title for title in issue_titles]\n",
        "#descriptions_list = [description for description in issue_descriptions]\n",
        "titles_and_descriptions_list = [title for title in titles_and_descriptions]\n",
        "\n",
        "# Collapse the list of strings into a single long string for processing\n",
        "#big_title_string = ' '.join(titles_list)\n",
        "big_title_string = ' '.join(titles_and_descriptions_list)\n",
        "\n",
        "from nltk.tokenize import word_tokenize\n",
        "\n",
        "# Tokenize the string into words\n",
        "tokens = word_tokenize(big_title_string)\n",
        "\n",
        "# Remove non-alphabetic tokens, such as punctuation\n",
        "words = [word.lower() for word in tokens if word.isalpha()]\n",
        "\n",
        "# Filter out stopwords\n",
        "from nltk.corpus import stopwords\n",
        "stop_words = set(stopwords.words('english'))\n",
        "words = [w for w in words if w not in stop_words]\n",
        "\n",
        "# Remove project specific stop words\n",
        "specific_stop_words = ['http', 'mule', 'studio']\n",
        "words = [w for w in words if w not in specific_stop_words]\n",
        "\n",
        "\n",
        "# Frequency distribution of words\n",
        "from nltk.probability import FreqDist\n",
        "fdist = FreqDist(words)\n",
        "import matplotlib.pyplot as plt\n",
        "fdist.plot(30,cumulative=False)\n",
        "plt.show()\n",
        "\n"
      ],
      "execution_count": 44,
      "outputs": [
        {
          "output_type": "stream",
          "text": [
            "[nltk_data] Downloading package punkt to /root/nltk_data...\n",
            "[nltk_data]   Package punkt is already up-to-date!\n",
            "[nltk_data] Downloading package stopwords to /root/nltk_data...\n",
            "[nltk_data]   Package stopwords is already up-to-date!\n"
          ],
          "name": "stdout"
        },
        {
          "output_type": "display_data",
          "data": {
            "image/png": "[encoded data removed]",
            "text/plain": [
              "<Figure size 432x288 with 1 Axes>"
            ]
          },
          "metadata": {
            "tags": []
          }
        }
      ]
    },
    {
      "cell_type": "code",
      "metadata": {
        "id": "KQxlK6ssfmQf",
        "colab_type": "code",
        "colab": {
          "base_uri": "https://localhost:8080/",
          "height": 89
        },
        "outputId": "48ff1718-d7b9-4d66-d836-31035447496c"
      },
      "source": [
        "\n",
        "# Filter the list of vectors to include only those that Word2Vec has a vector for\n",
        "vector_list = [model[word] for word in words if word in model.vocab]\n",
        "\n",
        "# Create a list of the words corresponding to these vectors\n",
        "words_filtered = [word for word in words if word in model.vocab]\n",
        "\n",
        "# Zip the words together with their vector representations\n",
        "word_vec_zip = zip(words_filtered, vector_list)\n",
        "\n",
        "# Cast to a dict so we can turn it into a DataFrame\n",
        "word_vec_dict = dict(word_vec_zip)\n",
        "df = pd.DataFrame.from_dict(word_vec_dict, orient='index')\n",
        "df.head(3)\n",
        "\n",
        "# Averaging Word Embeddings\n",
        "def document_vector(word2vec_model, doc):\n",
        "    # remove out-of-vocabulary words\n",
        "    doc = [word for word in doc if word in model.vocab]\n",
        "    return np.mean(model[doc], axis=0)\n",
        "\n",
        "# Our earlier preprocessing was done when we were dealing only with word vectors\n",
        "# Here, we need each document to remain a document \n",
        "def preprocess(text):\n",
        "    text = text.lower()\n",
        "    doc = word_tokenize(text)\n",
        "    doc = [word for word in doc if word not in stop_words]\n",
        "    doc = [word for word in doc if word.isalpha()] \n",
        "    return doc\n",
        "\n",
        "# Function that will help us drop documents that have no word vectors in word2vec\n",
        "def has_vector_representation(word2vec_model, doc):\n",
        "    \"\"\"check if at least one word of the document is in the\n",
        "    word2vec dictionary\"\"\"\n",
        "    return not all(word not in word2vec_model.vocab for word in doc)\n",
        "\n",
        "# Filter out documents\n",
        "def filter_docs(corpus, texts, condition_on_doc):\n",
        "    \"\"\"\n",
        "    Filter corpus and texts given the function condition_on_doc which takes a doc. The document doc is kept if condition_on_doc(doc) is true.\n",
        "    \"\"\"\n",
        "    number_of_docs = len(corpus)\n",
        "\n",
        "    if texts is not None:\n",
        "        texts = [text for (text, doc) in zip(texts, corpus)\n",
        "                 if condition_on_doc(doc)]\n",
        "\n",
        "    corpus = [doc for doc in corpus if condition_on_doc(doc)]\n",
        "\n",
        "    print(\"{} docs removed\".format(number_of_docs - len(corpus)))\n",
        "\n",
        "    return (corpus, texts)\n",
        "\n",
        "# Preprocess the corpus\n",
        "def preprocessing(data_list):\n",
        "  corpus = [preprocess(title) for title in data_list]\n",
        "\n",
        "  # Remove docs that don't include any words in W2V's vocab\n",
        "  corpus, data_list = filter_docs(corpus, data_list, lambda doc: has_vector_representation(model, doc))\n",
        "\n",
        "  # Filter out any empty docs\n",
        "  corpus, data_list = filter_docs(corpus, data_list, lambda doc: (len(doc) != 0))\n",
        "\n",
        "  y = []\n",
        "  x = []\n",
        "  for doc in corpus: # append the vector for each document\n",
        "      #print(corpus.index(doc))\n",
        "      x.append(document_vector(model, doc))\n",
        "      y.append(raw_data['storypoint'][corpus.index(doc)])\n",
        "      \n",
        "  X = np.array(x) # list to array\n",
        "  y = np.array(y)\n",
        "  return X, y\n",
        "\n",
        "# Descriptions\n",
        "X = preprocessing(descriptions_list)[0]\n",
        "y = preprocessing(descriptions_list)[1]\n",
        "\n",
        "# 80% of data goes to training\n",
        "from sklearn.model_selection import train_test_split\n",
        "X_train, X_test, y_train, y_test = train_test_split(X, y, test_size = 0.2, random_state = 10)\n",
        "\n"
      ],
      "execution_count": 46,
      "outputs": [
        {
          "output_type": "stream",
          "text": [
            "2 docs removed\n",
            "0 docs removed\n",
            "2 docs removed\n",
            "0 docs removed\n"
          ],
          "name": "stdout"
        }
      ]
    },
    {
      "cell_type": "code",
      "metadata": {
        "id": "1rHMNaXNhgD1",
        "colab_type": "code",
        "colab": {
          "base_uri": "https://localhost:8080/",
          "height": 53
        },
        "outputId": "66b5c006-186c-4696-d4d8-2d0cc7656ffd"
      },
      "source": [
        "from sklearn.metrics import mean_squared_error\n",
        "import xgboost as xgb\n",
        "# Instantiate an XGBRegressor\n",
        "xgr = xgb.XGBRegressor(random_state=2)\n",
        "\n",
        "# Fit the classifier to the training set\n",
        "xgr.fit(X_train, y_train)\n",
        "\n",
        "y_pred = xgr.predict(X_test)\n",
        "\n",
        "mean_squared_error(y_test, y_pred)\n",
        "\n",
        "# Accuracy\n",
        "y_pred_rounded = [round(prediction,0) for prediction in y_pred ]\n",
        "y_pred_rounded = [int(prediction) for prediction in y_pred_rounded]\n",
        "\n",
        "from sklearn import metrics\n",
        "acc_score = metrics.accuracy_score(y_test, y_pred_rounded)\n",
        "print('Total accuracy classification score: {}'.format(acc_score))"
      ],
      "execution_count": 47,
      "outputs": [
        {
          "output_type": "stream",
          "text": [
            "[15:43:57] WARNING: /workspace/src/objective/regression_obj.cu:152: reg:linear is now deprecated in favor of reg:squarederror.\n",
            "Total accuracy classification score: 0.7123287671232876\n"
          ],
          "name": "stdout"
        }
      ]
    },
    {
      "cell_type": "code",
      "metadata": {
        "id": "2G3jj731nhCy",
        "colab_type": "code",
        "colab": {
          "base_uri": "https://localhost:8080/",
          "height": 35
        },
        "outputId": "5844f8a8-2e07-45bc-a5ed-b1e895933370"
      },
      "source": [
        "# Build the classifier\n",
        "from sklearn.naive_bayes import GaussianNB\n",
        "clf = GaussianNB()\n",
        "\n",
        "# Fit the classifier to the training set\n",
        "clf.fit(X_train, y_train)\n",
        "y_pred = clf.predict(X_test)\n",
        "\n",
        "# Accuracy\n",
        "from sklearn import metrics\n",
        "acc_score = metrics.accuracy_score(y_test, y_pred)\n",
        "print('Total accuracy classification score: {}'.format(acc_score))"
      ],
      "execution_count": 48,
      "outputs": [
        {
          "output_type": "stream",
          "text": [
            "Total accuracy classification score: 0.3424657534246575\n"
          ],
          "name": "stdout"
        }
      ]
    },
    {
      "cell_type": "code",
      "metadata": {
        "id": "_ytCyhiUnvIP",
        "colab_type": "code",
        "colab": {
          "base_uri": "https://localhost:8080/",
          "height": 35
        },
        "outputId": "e1501f62-d547-4131-cb29-fbcb2853b5f2"
      },
      "source": [
        "# Build the classifier\n",
        "from sklearn import tree\n",
        "clf = tree.DecisionTreeClassifier()\n",
        "\n",
        "# Fit the classifier to the training set\n",
        "clf.fit(X_train, y_train)\n",
        "y_pred = clf.predict(X_test)\n",
        "\n",
        "# Accuracy\n",
        "from sklearn import metrics\n",
        "acc_score = metrics.accuracy_score(y_test, y_pred)\n",
        "print('Total accuracy classification score: {}'.format(acc_score))"
      ],
      "execution_count": 52,
      "outputs": [
        {
          "output_type": "stream",
          "text": [
            "Total accuracy classification score: 0.5068493150684932\n"
          ],
          "name": "stdout"
        }
      ]
    },
    {
      "cell_type": "code",
      "metadata": {
        "id": "DbGUj2hmpdmv",
        "colab_type": "code",
        "colab": {
          "base_uri": "https://localhost:8080/",
          "height": 35
        },
        "outputId": "967f2b5c-774c-4a1d-cf4d-824d943e0533"
      },
      "source": [
        "# Build the classifier\n",
        "from sklearn.ensemble import RandomForestClassifier\n",
        "clf = RandomForestClassifier()\n",
        "\n",
        "# Fit the classifier to the training set\n",
        "clf.fit(X_train, y_train)\n",
        "y_pred = clf.predict(X_test)\n",
        "\n",
        "# Accuracy\n",
        "from sklearn import metrics\n",
        "acc_score = metrics.accuracy_score(y_test, y_pred)\n",
        "print('Total accuracy classification score: {}'.format(acc_score))"
      ],
      "execution_count": 58,
      "outputs": [
        {
          "output_type": "stream",
          "text": [
            "Total accuracy classification score: 0.7328767123287672\n"
          ],
          "name": "stdout"
        }
      ]
    },
    {
      "cell_type": "code",
      "metadata": {
        "id": "py2Mh7qppuMN",
        "colab_type": "code",
        "colab": {
          "base_uri": "https://localhost:8080/",
          "height": 35
        },
        "outputId": "7f1b61ed-5c3b-440f-e553-986dc8fb66bc"
      },
      "source": [
        "# Build the classifier\n",
        "from sklearn.ensemble import AdaBoostClassifier\n",
        "clf = AdaBoostClassifier()\n",
        "\n",
        "# Fit the classifier to the training set\n",
        "clf.fit(X_train, y_train)\n",
        "y_pred = clf.predict(X_test)\n",
        "\n",
        "# Accuracy\n",
        "from sklearn import metrics\n",
        "acc_score = metrics.accuracy_score(y_test, y_pred)\n",
        "print('Total accuracy classification score: {}'.format(acc_score))"
      ],
      "execution_count": 59,
      "outputs": [
        {
          "output_type": "stream",
          "text": [
            "Total accuracy classification score: 0.6164383561643836\n"
          ],
          "name": "stdout"
        }
      ]
    },
    {
      "cell_type": "code",
      "metadata": {
        "id": "QMQyGGxnngBp",
        "colab_type": "code",
        "colab": {
          "base_uri": "https://localhost:8080/",
          "height": 35
        },
        "outputId": "017a4607-fe65-423a-8dd1-8bd5e6d0c225"
      },
      "source": [
        "# Build the classifier\n",
        "from sklearn.linear_model import LogisticRegression\n",
        "clf = LogisticRegression()\n",
        "\n",
        "# Fit the classifier to the training set\n",
        "clf.fit(X_train, y_train)\n",
        "y_pred = clf.predict(X_test)\n",
        "\n",
        "# Accuracy\n",
        "from sklearn import metrics\n",
        "acc_score = metrics.accuracy_score(y_test, y_pred)\n",
        "print('Total accuracy classification score: {}'.format(acc_score))"
      ],
      "execution_count": 53,
      "outputs": [
        {
          "output_type": "stream",
          "text": [
            "Total accuracy classification score: 0.726027397260274\n"
          ],
          "name": "stdout"
        }
      ]
    },
    {
      "cell_type": "code",
      "metadata": {
        "id": "OdW9nns7o8vW",
        "colab_type": "code",
        "colab": {
          "base_uri": "https://localhost:8080/",
          "height": 35
        },
        "outputId": "81826472-8e70-47a8-b27d-75b4964b25c0"
      },
      "source": [
        "# Build the classifier\n",
        "from sklearn.discriminant_analysis import LinearDiscriminantAnalysis\n",
        "clf = LinearDiscriminantAnalysis()\n",
        "\n",
        "# Fit the classifier to the training set\n",
        "clf.fit(X_train, y_train)\n",
        "y_pred = clf.predict(X_test)\n",
        "\n",
        "# Accuracy\n",
        "from sklearn import metrics\n",
        "acc_score = metrics.accuracy_score(y_test, y_pred)\n",
        "print('Total accuracy classification score: {}'.format(acc_score))"
      ],
      "execution_count": 54,
      "outputs": [
        {
          "output_type": "stream",
          "text": [
            "Total accuracy classification score: 0.5342465753424658\n"
          ],
          "name": "stdout"
        }
      ]
    },
    {
      "cell_type": "code",
      "metadata": {
        "id": "8uYPBCiopEVA",
        "colab_type": "code",
        "colab": {
          "base_uri": "https://localhost:8080/",
          "height": 35
        },
        "outputId": "8f9d859a-5b62-4606-85e6-ead1dd687015"
      },
      "source": [
        "# Build the classifier\n",
        "from sklearn.neighbors import KNeighborsClassifier\n",
        "clf = KNeighborsClassifier()\n",
        "\n",
        "# Fit the classifier to the training set\n",
        "clf.fit(X_train, y_train)\n",
        "y_pred = clf.predict(X_test)\n",
        "\n",
        "# Accuracy\n",
        "from sklearn import metrics\n",
        "acc_score = metrics.accuracy_score(y_test, y_pred)\n",
        "print('Total accuracy classification score: {}'.format(acc_score))"
      ],
      "execution_count": 55,
      "outputs": [
        {
          "output_type": "stream",
          "text": [
            "Total accuracy classification score: 0.6164383561643836\n"
          ],
          "name": "stdout"
        }
      ]
    },
    {
      "cell_type": "code",
      "metadata": {
        "id": "USN0_QMvpKCs",
        "colab_type": "code",
        "colab": {
          "base_uri": "https://localhost:8080/",
          "height": 35
        },
        "outputId": "bc5f2048-ca0d-4af0-ee88-ea45b5010c2e"
      },
      "source": [
        "# Build the classifier\n",
        "from sklearn.svm import SVC\n",
        "clf = SVC()\n",
        "\n",
        "# Fit the classifier to the training set\n",
        "clf.fit(X_train, y_train)\n",
        "y_pred = clf.predict(X_test)\n",
        "\n",
        "# Accuracy\n",
        "from sklearn import metrics\n",
        "acc_score = metrics.accuracy_score(y_test, y_pred)\n",
        "print('Total accuracy classification score: {}'.format(acc_score))"
      ],
      "execution_count": 56,
      "outputs": [
        {
          "output_type": "stream",
          "text": [
            "Total accuracy classification score: 0.726027397260274\n"
          ],
          "name": "stdout"
        }
      ]
    },
    {
      "cell_type": "code",
      "metadata": {
        "id": "gqURHV2ZpcC0",
        "colab_type": "code",
        "colab": {
          "base_uri": "https://localhost:8080/",
          "height": 71
        },
        "outputId": "d3f64c66-6abc-4023-a5db-23e44401283f"
      },
      "source": [
        "# Build the classifier\n",
        "from sklearn.neural_network import MLPClassifier\n",
        "clf = MLPClassifier()\n",
        "\n",
        "# Fit the classifier to the training set\n",
        "clf.fit(X_train, y_train)\n",
        "y_pred = clf.predict(X_test)\n",
        "\n",
        "# Accuracy\n",
        "from sklearn import metrics\n",
        "acc_score = metrics.accuracy_score(y_test, y_pred)\n",
        "print('Total accuracy classification score: {}'.format(acc_score))"
      ],
      "execution_count": 60,
      "outputs": [
        {
          "output_type": "stream",
          "text": [
            "Total accuracy classification score: 0.6506849315068494\n"
          ],
          "name": "stdout"
        },
        {
          "output_type": "stream",
          "text": [
            "/usr/local/lib/python3.6/dist-packages/sklearn/neural_network/_multilayer_perceptron.py:571: ConvergenceWarning: Stochastic Optimizer: Maximum iterations (200) reached and the optimization hasn't converged yet.\n",
            "  % self.max_iter, ConvergenceWarning)\n"
          ],
          "name": "stderr"
        }
      ]
    },
    {
      "cell_type": "code",
      "metadata": {
        "id": "BRUnTEXVp-Zl",
        "colab_type": "code",
        "colab": {
          "base_uri": "https://localhost:8080/",
          "height": 71
        },
        "outputId": "29b1fb9c-7e0f-44d5-8cd3-baf56baaac83"
      },
      "source": [
        "# Build the classifier\n",
        "from sklearn.discriminant_analysis import QuadraticDiscriminantAnalysis\n",
        "clf = QuadraticDiscriminantAnalysis()\n",
        "\n",
        "# Fit the classifier to the training set\n",
        "clf.fit(X_train, y_train)\n",
        "y_pred = clf.predict(X_test)\n",
        "\n",
        "# Accuracy\n",
        "from sklearn import metrics\n",
        "acc_score = metrics.accuracy_score(y_test, y_pred)\n",
        "print('Total accuracy classification score: {}'.format(acc_score))"
      ],
      "execution_count": 61,
      "outputs": [
        {
          "output_type": "stream",
          "text": [
            "Total accuracy classification score: 0.7123287671232876\n"
          ],
          "name": "stdout"
        },
        {
          "output_type": "stream",
          "text": [
            "/usr/local/lib/python3.6/dist-packages/sklearn/discriminant_analysis.py:691: UserWarning: Variables are collinear\n",
            "  warnings.warn(\"Variables are collinear\")\n"
          ],
          "name": "stderr"
        }
      ]
    },
    {
      "cell_type": "code",
      "metadata": {
        "id": "99Txpq8PdCwb",
        "colab_type": "code",
        "colab": {
          "base_uri": "https://localhost:8080/",
          "height": 35
        },
        "outputId": "6547befe-f1fc-4554-c01f-44e50e0a7c5b"
      },
      "source": [
        "# Build the classifier\n",
        "from sklearn.gaussian_process import GaussianProcessClassifier\n",
        "clf = GaussianProcessClassifier()\n",
        "\n",
        "# Fit the classifier to the training set\n",
        "clf.fit(X_train, y_train)\n",
        "y_pred = clf.predict(X_test)\n",
        "\n",
        "# Accuracy\n",
        "from sklearn import metrics\n",
        "acc_score = metrics.accuracy_score(y_test, y_pred)\n",
        "print('Total accuracy classification score: {}'.format(acc_score))"
      ],
      "execution_count": 62,
      "outputs": [
        {
          "output_type": "stream",
          "text": [
            "Total accuracy classification score: 0.726027397260274\n"
          ],
          "name": "stdout"
        }
      ]
    }
  ]
}