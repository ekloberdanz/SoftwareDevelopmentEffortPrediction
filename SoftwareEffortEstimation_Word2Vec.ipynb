{
  "nbformat": 4,
  "nbformat_minor": 0,
  "metadata": {
    "colab": {
      "name": "SoftwareEffortEstimation_Word2Vec.ipynb",
      "provenance": [],
      "collapsed_sections": []
    },
    "kernelspec": {
      "name": "python3",
      "display_name": "Python 3"
    }
  },
  "cells": [
    {
      "cell_type": "code",
      "metadata": {
        "id": "i5htc4V9FWoz",
        "colab_type": "code",
        "outputId": "6d5f02ae-e081-4142-c5e3-07d25d1601e1",
        "colab": {
          "base_uri": "https://localhost:8080/",
          "height": 235
        }
      },
      "source": [
        "import pandas as pd\n",
        "# Load Data\n",
        "url = 'https://raw.githubusercontent.com/SEAnalytics/datasets/master/storypoint/IEEE%20TSE2018/dataset/mulestudio.csv'\n",
        "raw_data = pd.read_csv(url)\n",
        "raw_data.columns\n",
        "raw_data.head(6)"
      ],
      "execution_count": 0,
      "outputs": [
        {
          "output_type": "execute_result",
          "data": {
            "text/html": [
              "<div>\n",
              "<style scoped>\n",
              "    .dataframe tbody tr th:only-of-type {\n",
              "        vertical-align: middle;\n",
              "    }\n",
              "\n",
              "    .dataframe tbody tr th {\n",
              "        vertical-align: top;\n",
              "    }\n",
              "\n",
              "    .dataframe thead th {\n",
              "        text-align: right;\n",
              "    }\n",
              "</style>\n",
              "<table border=\"1\" class=\"dataframe\">\n",
              "  <thead>\n",
              "    <tr style=\"text-align: right;\">\n",
              "      <th></th>\n",
              "      <th>issuekey</th>\n",
              "      <th>title</th>\n",
              "      <th>description</th>\n",
              "      <th>storypoint</th>\n",
              "    </tr>\n",
              "  </thead>\n",
              "  <tbody>\n",
              "    <tr>\n",
              "      <th>0</th>\n",
              "      <td>STUDIO-95</td>\n",
              "      <td>Support for request/reply</td>\n",
              "      <td>request/reply  http://www.mulesoft.org/documen...</td>\n",
              "      <td>13</td>\n",
              "    </tr>\n",
              "    <tr>\n",
              "      <th>1</th>\n",
              "      <td>STUDIO-280</td>\n",
              "      <td>Cannot import a Studio project from Git withou...</td>\n",
              "      <td>Steps to reproduce:    1. Create a simple Mule...</td>\n",
              "      <td>3</td>\n",
              "    </tr>\n",
              "    <tr>\n",
              "      <th>2</th>\n",
              "      <td>STUDIO-382</td>\n",
              "      <td>Changes to Java code do not get hot deployed</td>\n",
              "      <td>Java source changes don't get picked up right ...</td>\n",
              "      <td>5</td>\n",
              "    </tr>\n",
              "    <tr>\n",
              "      <th>3</th>\n",
              "      <td>STUDIO-459</td>\n",
              "      <td>Unable to add a response when creating a secon...</td>\n",
              "      <td>Unable to add a response when creating a secon...</td>\n",
              "      <td>8</td>\n",
              "    </tr>\n",
              "    <tr>\n",
              "      <th>4</th>\n",
              "      <td>STUDIO-618</td>\n",
              "      <td>Namespaces in the XML view are not being remo...</td>\n",
              "      <td>When you add an element and then you remove it...</td>\n",
              "      <td>8</td>\n",
              "    </tr>\n",
              "    <tr>\n",
              "      <th>5</th>\n",
              "      <td>STUDIO-781</td>\n",
              "      <td>Would save time to be given the option to crea...</td>\n",
              "      <td>Add a button in the ClassFieldEditor to create...</td>\n",
              "      <td>5</td>\n",
              "    </tr>\n",
              "  </tbody>\n",
              "</table>\n",
              "</div>"
            ],
            "text/plain": [
              "     issuekey  ... storypoint\n",
              "0   STUDIO-95  ...         13\n",
              "1  STUDIO-280  ...          3\n",
              "2  STUDIO-382  ...          5\n",
              "3  STUDIO-459  ...          8\n",
              "4  STUDIO-618  ...          8\n",
              "5  STUDIO-781  ...          5\n",
              "\n",
              "[6 rows x 4 columns]"
            ]
          },
          "metadata": {
            "tags": []
          },
          "execution_count": 1
        }
      ]
    },
    {
      "cell_type": "code",
      "metadata": {
        "id": "io_XhNMpHRDG",
        "colab_type": "code",
        "outputId": "5369611e-218f-4e79-888a-b22f5cb3c8a1",
        "colab": {
          "base_uri": "https://localhost:8080/",
          "height": 107
        }
      },
      "source": [
        "# Check for missing values\n",
        "raw_data.isnull().sum()\n"
      ],
      "execution_count": 0,
      "outputs": [
        {
          "output_type": "execute_result",
          "data": {
            "text/plain": [
              "issuekey       0\n",
              "title          0\n",
              "description    0\n",
              "storypoint     0\n",
              "dtype: int64"
            ]
          },
          "metadata": {
            "tags": []
          },
          "execution_count": 2
        }
      ]
    },
    {
      "cell_type": "code",
      "metadata": {
        "id": "FTRFliXiIDzF",
        "colab_type": "code",
        "outputId": "cad29dd8-d728-4f52-cf60-ca77aea10c09",
        "colab": {
          "base_uri": "https://localhost:8080/",
          "height": 178
        }
      },
      "source": [
        "\n",
        "# Examine storypoints summary statistics\n",
        "raw_data.storypoint.describe()"
      ],
      "execution_count": 0,
      "outputs": [
        {
          "output_type": "execute_result",
          "data": {
            "text/plain": [
              "count    732.000000\n",
              "mean       6.396175\n",
              "std        5.385687\n",
              "min        1.000000\n",
              "25%        3.000000\n",
              "50%        5.000000\n",
              "75%        8.000000\n",
              "max       34.000000\n",
              "Name: storypoint, dtype: float64"
            ]
          },
          "metadata": {
            "tags": []
          },
          "execution_count": 3
        }
      ]
    },
    {
      "cell_type": "code",
      "metadata": {
        "id": "7mwYp4JTITqW",
        "colab_type": "code",
        "outputId": "99a2e71e-1b86-4fc5-997b-1a949c8d86bf",
        "colab": {
          "base_uri": "https://localhost:8080/",
          "height": 295
        }
      },
      "source": [
        "# Visualize number of storypoints distribution\n",
        "import matplotlib.pyplot as plt\n",
        "plt.hist(raw_data.storypoint, bins=20, alpha=0.6, color='b')\n",
        "plt.title(\"#Items per Point\")\n",
        "plt.xlabel(\"Points\")\n",
        "plt.ylabel(\"Count\")\n",
        "plt.show()\n"
      ],
      "execution_count": 0,
      "outputs": [
        {
          "output_type": "display_data",
          "data": {
            "image/png": "[encoded data removed]",
            "text/plain": [
              "<Figure size 432x288 with 1 Axes>"
            ]
          },
          "metadata": {
            "tags": []
          }
        }
      ]
    },
    {
      "cell_type": "code",
      "metadata": {
        "id": "zJlSZo91I22w",
        "colab_type": "code",
        "outputId": "2bd58cc0-08ca-4881-d7a4-ae39bbd681a0",
        "colab": {
          "base_uri": "https://localhost:8080/",
          "height": 295
        }
      },
      "source": [
        "# Zoom in on most common data representing 75% of the dataset\n",
        "import numpy as np\n",
        "frequent_data = raw_data.query('storypoint <= 8')\n",
        "plt.hist(frequent_data.storypoint, bins=20, alpha=0.6, color='b')\n",
        "plt.title(\"#Items per Point\")\n",
        "plt.xlabel(\"Points\")\n",
        "plt.ylabel(\"Count\")\n",
        "plt.xticks(np.arange(0, 10, 1)) \n",
        "plt.show()"
      ],
      "execution_count": 0,
      "outputs": [
        {
          "output_type": "display_data",
          "data": {
            "image/png": "[encoded data removed]",
            "text/plain": [
              "<Figure size 432x288 with 1 Axes>"
            ]
          },
          "metadata": {
            "tags": []
          }
        }
      ]
    },
    {
      "cell_type": "code",
      "metadata": {
        "id": "nz9dOQdOMtPG",
        "colab_type": "code",
        "outputId": "dfa42c8f-55bd-4438-a867-0bc745251188",
        "colab": {
          "base_uri": "https://localhost:8080/",
          "height": 232
        }
      },
      "source": [
        "# Examine distribution in detail\n",
        "raw_data.groupby('storypoint').size()"
      ],
      "execution_count": 0,
      "outputs": [
        {
          "output_type": "execute_result",
          "data": {
            "text/plain": [
              "storypoint\n",
              "1      61\n",
              "2      65\n",
              "3     121\n",
              "5     223\n",
              "8     157\n",
              "13     73\n",
              "15      2\n",
              "21     18\n",
              "26      1\n",
              "34     11\n",
              "dtype: int64"
            ]
          },
          "metadata": {
            "tags": []
          },
          "execution_count": 6
        }
      ]
    },
    {
      "cell_type": "markdown",
      "metadata": {
        "id": "eZXJYGV2NOKd",
        "colab_type": "text"
      },
      "source": [
        "This shows that 5 the most common number of storypoints assigned to an issue/requirement."
      ]
    },
    {
      "cell_type": "code",
      "metadata": {
        "id": "heESOd6eNrhh",
        "colab_type": "code",
        "outputId": "956b9c7e-f0ed-4a84-ba5c-87bbca18f050",
        "colab": {
          "base_uri": "https://localhost:8080/",
          "height": 89
        }
      },
      "source": [
        "################### Data Preprocessing ###################################\n",
        "\n",
        "import nltk\n",
        "from nltk.corpus import stopwords \n",
        "nltk.download('punkt')\n",
        "nltk.download('stopwords')\n",
        "\n",
        "issue_titles = raw_data['title']\n",
        "issue_descriptions = raw_data['description']\n",
        "\n",
        "# Create a list of strings, one for each title\n",
        "titles_list = [title for title in issue_titles]\n",
        "descriptions_list = [description for description in issue_descriptions]\n",
        "\n",
        "# Collapse the list of strings into a single long string for processing\n",
        "big_title_string = ' '.join(titles_list)\n",
        "\n",
        "from nltk.tokenize import word_tokenize\n",
        "\n",
        "# Tokenize the string into words\n",
        "tokens = word_tokenize(big_title_string)\n",
        "\n",
        "# Remove non-alphabetic tokens, such as punctuation\n",
        "words = [word.lower() for word in tokens if word.isalpha()]\n",
        "\n",
        "# Filter out stopwords\n",
        "from nltk.corpus import stopwords\n",
        "stop_words = set(stopwords.words('english'))\n",
        "words = [word for word in words if not word in stop_words]\n",
        "\n",
        "\n",
        "\n"
      ],
      "execution_count": 0,
      "outputs": [
        {
          "output_type": "stream",
          "text": [
            "[nltk_data] Downloading package punkt to /root/nltk_data...\n",
            "[nltk_data]   Package punkt is already up-to-date!\n",
            "[nltk_data] Downloading package stopwords to /root/nltk_data...\n",
            "[nltk_data]   Package stopwords is already up-to-date!\n"
          ],
          "name": "stdout"
        }
      ]
    },
    {
      "cell_type": "code",
      "metadata": {
        "id": "m4dZhPsZHvTQ",
        "colab_type": "code",
        "outputId": "b3dd76d2-bb08-42c4-acef-1568f7a74f6d",
        "colab": {
          "base_uri": "https://localhost:8080/",
          "height": 91
        }
      },
      "source": [
        "import gensim\n",
        "# Load word2vec model (trained on an enormous Google corpus)\n",
        "model = gensim.models.KeyedVectors.load_word2vec_format('https://s3.amazonaws.com/dl4j-distribution/GoogleNews-vectors-negative300.bin.gz', binary = True) \n",
        "\n",
        "# Check dimension of word vectors\n",
        "model.vector_size"
      ],
      "execution_count": 0,
      "outputs": [
        {
          "output_type": "stream",
          "text": [
            "/usr/local/lib/python3.6/dist-packages/smart_open/smart_open_lib.py:402: UserWarning: This function is deprecated, use smart_open.open instead. See the migration notes for details: https://github.com/RaRe-Technologies/smart_open/blob/master/README.rst#migrating-to-the-new-open-function\n",
            "  'See the migration notes for details: %s' % _MIGRATION_NOTES_URL\n"
          ],
          "name": "stderr"
        },
        {
          "output_type": "execute_result",
          "data": {
            "text/plain": [
              "300"
            ]
          },
          "metadata": {
            "tags": []
          },
          "execution_count": 12
        }
      ]
    },
    {
      "cell_type": "code",
      "metadata": {
        "id": "C_lhaxc2JUR3",
        "colab_type": "code",
        "outputId": "32ffc6a0-3e99-4d32-9d6d-29799bb971aa",
        "colab": {
          "base_uri": "https://localhost:8080/",
          "height": 193
        }
      },
      "source": [
        "# Filter the list of vectors to include only those that Word2Vec has a vector for\n",
        "vector_list = [model[word] for word in words if word in model.vocab]\n",
        "\n",
        "# Create a list of the words corresponding to these vectors\n",
        "words_filtered = [word for word in words if word in model.vocab]\n",
        "\n",
        "# Zip the words together with their vector representations\n",
        "word_vec_zip = zip(words_filtered, vector_list)\n",
        "\n",
        "# Cast to a dict so we can turn it into a DataFrame\n",
        "word_vec_dict = dict(word_vec_zip)\n",
        "df = pd.DataFrame.from_dict(word_vec_dict, orient='index')\n",
        "df.head(3)"
      ],
      "execution_count": 0,
      "outputs": [
        {
          "output_type": "execute_result",
          "data": {
            "text/html": [
              "<div>\n",
              "<style scoped>\n",
              "    .dataframe tbody tr th:only-of-type {\n",
              "        vertical-align: middle;\n",
              "    }\n",
              "\n",
              "    .dataframe tbody tr th {\n",
              "        vertical-align: top;\n",
              "    }\n",
              "\n",
              "    .dataframe thead th {\n",
              "        text-align: right;\n",
              "    }\n",
              "</style>\n",
              "<table border=\"1\" class=\"dataframe\">\n",
              "  <thead>\n",
              "    <tr style=\"text-align: right;\">\n",
              "      <th></th>\n",
              "      <th>0</th>\n",
              "      <th>1</th>\n",
              "      <th>2</th>\n",
              "      <th>3</th>\n",
              "      <th>4</th>\n",
              "      <th>5</th>\n",
              "      <th>6</th>\n",
              "      <th>7</th>\n",
              "      <th>8</th>\n",
              "      <th>9</th>\n",
              "      <th>10</th>\n",
              "      <th>11</th>\n",
              "      <th>12</th>\n",
              "      <th>13</th>\n",
              "      <th>14</th>\n",
              "      <th>15</th>\n",
              "      <th>16</th>\n",
              "      <th>17</th>\n",
              "      <th>18</th>\n",
              "      <th>19</th>\n",
              "      <th>20</th>\n",
              "      <th>21</th>\n",
              "      <th>22</th>\n",
              "      <th>23</th>\n",
              "      <th>24</th>\n",
              "      <th>25</th>\n",
              "      <th>26</th>\n",
              "      <th>27</th>\n",
              "      <th>28</th>\n",
              "      <th>29</th>\n",
              "      <th>30</th>\n",
              "      <th>31</th>\n",
              "      <th>32</th>\n",
              "      <th>33</th>\n",
              "      <th>34</th>\n",
              "      <th>35</th>\n",
              "      <th>36</th>\n",
              "      <th>37</th>\n",
              "      <th>38</th>\n",
              "      <th>39</th>\n",
              "      <th>...</th>\n",
              "      <th>260</th>\n",
              "      <th>261</th>\n",
              "      <th>262</th>\n",
              "      <th>263</th>\n",
              "      <th>264</th>\n",
              "      <th>265</th>\n",
              "      <th>266</th>\n",
              "      <th>267</th>\n",
              "      <th>268</th>\n",
              "      <th>269</th>\n",
              "      <th>270</th>\n",
              "      <th>271</th>\n",
              "      <th>272</th>\n",
              "      <th>273</th>\n",
              "      <th>274</th>\n",
              "      <th>275</th>\n",
              "      <th>276</th>\n",
              "      <th>277</th>\n",
              "      <th>278</th>\n",
              "      <th>279</th>\n",
              "      <th>280</th>\n",
              "      <th>281</th>\n",
              "      <th>282</th>\n",
              "      <th>283</th>\n",
              "      <th>284</th>\n",
              "      <th>285</th>\n",
              "      <th>286</th>\n",
              "      <th>287</th>\n",
              "      <th>288</th>\n",
              "      <th>289</th>\n",
              "      <th>290</th>\n",
              "      <th>291</th>\n",
              "      <th>292</th>\n",
              "      <th>293</th>\n",
              "      <th>294</th>\n",
              "      <th>295</th>\n",
              "      <th>296</th>\n",
              "      <th>297</th>\n",
              "      <th>298</th>\n",
              "      <th>299</th>\n",
              "    </tr>\n",
              "  </thead>\n",
              "  <tbody>\n",
              "    <tr>\n",
              "      <th>support</th>\n",
              "      <td>-0.089844</td>\n",
              "      <td>-0.147461</td>\n",
              "      <td>-0.049561</td>\n",
              "      <td>0.002930</td>\n",
              "      <td>-0.335938</td>\n",
              "      <td>0.168945</td>\n",
              "      <td>-0.073242</td>\n",
              "      <td>-0.143555</td>\n",
              "      <td>0.106934</td>\n",
              "      <td>-0.020874</td>\n",
              "      <td>-0.114258</td>\n",
              "      <td>0.261719</td>\n",
              "      <td>-0.084961</td>\n",
              "      <td>0.227539</td>\n",
              "      <td>0.037598</td>\n",
              "      <td>-0.110840</td>\n",
              "      <td>0.029785</td>\n",
              "      <td>0.079102</td>\n",
              "      <td>-0.025391</td>\n",
              "      <td>-0.259766</td>\n",
              "      <td>0.080078</td>\n",
              "      <td>0.204102</td>\n",
              "      <td>0.087891</td>\n",
              "      <td>0.013672</td>\n",
              "      <td>0.059814</td>\n",
              "      <td>-0.149414</td>\n",
              "      <td>-0.152344</td>\n",
              "      <td>0.054932</td>\n",
              "      <td>-0.036865</td>\n",
              "      <td>-0.265625</td>\n",
              "      <td>0.244141</td>\n",
              "      <td>-0.092773</td>\n",
              "      <td>-0.130859</td>\n",
              "      <td>-0.069824</td>\n",
              "      <td>0.084473</td>\n",
              "      <td>0.055908</td>\n",
              "      <td>-0.065430</td>\n",
              "      <td>0.144531</td>\n",
              "      <td>-0.136719</td>\n",
              "      <td>-0.128906</td>\n",
              "      <td>...</td>\n",
              "      <td>-0.082031</td>\n",
              "      <td>-0.047119</td>\n",
              "      <td>-0.169922</td>\n",
              "      <td>0.167969</td>\n",
              "      <td>0.010010</td>\n",
              "      <td>0.099121</td>\n",
              "      <td>-0.000511</td>\n",
              "      <td>0.032471</td>\n",
              "      <td>-0.026489</td>\n",
              "      <td>-0.011414</td>\n",
              "      <td>-0.228516</td>\n",
              "      <td>-0.045898</td>\n",
              "      <td>0.183594</td>\n",
              "      <td>-0.111816</td>\n",
              "      <td>0.241211</td>\n",
              "      <td>-0.039062</td>\n",
              "      <td>-0.159180</td>\n",
              "      <td>-0.077637</td>\n",
              "      <td>-0.125977</td>\n",
              "      <td>-0.159180</td>\n",
              "      <td>-0.027466</td>\n",
              "      <td>0.130859</td>\n",
              "      <td>0.151367</td>\n",
              "      <td>0.279297</td>\n",
              "      <td>-0.245117</td>\n",
              "      <td>-0.016113</td>\n",
              "      <td>-0.019653</td>\n",
              "      <td>-0.004822</td>\n",
              "      <td>0.287109</td>\n",
              "      <td>-0.176758</td>\n",
              "      <td>-0.162109</td>\n",
              "      <td>0.070312</td>\n",
              "      <td>0.134766</td>\n",
              "      <td>-0.242188</td>\n",
              "      <td>0.113770</td>\n",
              "      <td>0.013977</td>\n",
              "      <td>-0.014221</td>\n",
              "      <td>0.182617</td>\n",
              "      <td>-0.032227</td>\n",
              "      <td>0.048096</td>\n",
              "    </tr>\n",
              "    <tr>\n",
              "      <th>import</th>\n",
              "      <td>0.206055</td>\n",
              "      <td>0.227539</td>\n",
              "      <td>-0.213867</td>\n",
              "      <td>0.064941</td>\n",
              "      <td>0.041260</td>\n",
              "      <td>0.084961</td>\n",
              "      <td>0.148438</td>\n",
              "      <td>-0.291016</td>\n",
              "      <td>-0.070801</td>\n",
              "      <td>0.202148</td>\n",
              "      <td>-0.001564</td>\n",
              "      <td>-0.119141</td>\n",
              "      <td>-0.161133</td>\n",
              "      <td>-0.130859</td>\n",
              "      <td>-0.277344</td>\n",
              "      <td>0.072754</td>\n",
              "      <td>0.251953</td>\n",
              "      <td>0.246094</td>\n",
              "      <td>-0.084961</td>\n",
              "      <td>-0.048096</td>\n",
              "      <td>-0.078613</td>\n",
              "      <td>0.017944</td>\n",
              "      <td>-0.015198</td>\n",
              "      <td>-0.125977</td>\n",
              "      <td>0.198242</td>\n",
              "      <td>0.108887</td>\n",
              "      <td>0.285156</td>\n",
              "      <td>-0.074707</td>\n",
              "      <td>-0.014893</td>\n",
              "      <td>0.197266</td>\n",
              "      <td>-0.051514</td>\n",
              "      <td>-0.048828</td>\n",
              "      <td>-0.011841</td>\n",
              "      <td>0.200195</td>\n",
              "      <td>-0.094727</td>\n",
              "      <td>-0.118164</td>\n",
              "      <td>-0.110352</td>\n",
              "      <td>0.085449</td>\n",
              "      <td>0.019165</td>\n",
              "      <td>0.086914</td>\n",
              "      <td>...</td>\n",
              "      <td>0.208984</td>\n",
              "      <td>-0.170898</td>\n",
              "      <td>0.267578</td>\n",
              "      <td>-0.167969</td>\n",
              "      <td>0.103027</td>\n",
              "      <td>-0.359375</td>\n",
              "      <td>-0.202148</td>\n",
              "      <td>-0.010986</td>\n",
              "      <td>0.173828</td>\n",
              "      <td>-0.054199</td>\n",
              "      <td>0.199219</td>\n",
              "      <td>0.037598</td>\n",
              "      <td>0.047119</td>\n",
              "      <td>-0.021851</td>\n",
              "      <td>0.108887</td>\n",
              "      <td>0.251953</td>\n",
              "      <td>-0.339844</td>\n",
              "      <td>-0.106934</td>\n",
              "      <td>-0.141602</td>\n",
              "      <td>0.068848</td>\n",
              "      <td>-0.118164</td>\n",
              "      <td>0.009766</td>\n",
              "      <td>0.219727</td>\n",
              "      <td>-0.092285</td>\n",
              "      <td>0.024658</td>\n",
              "      <td>-0.075195</td>\n",
              "      <td>-0.496094</td>\n",
              "      <td>-0.097168</td>\n",
              "      <td>0.129883</td>\n",
              "      <td>0.009277</td>\n",
              "      <td>0.144531</td>\n",
              "      <td>-0.042480</td>\n",
              "      <td>0.121582</td>\n",
              "      <td>0.144531</td>\n",
              "      <td>0.046875</td>\n",
              "      <td>0.049316</td>\n",
              "      <td>0.108398</td>\n",
              "      <td>-0.073242</td>\n",
              "      <td>-0.001350</td>\n",
              "      <td>-0.120117</td>\n",
              "    </tr>\n",
              "    <tr>\n",
              "      <th>studio</th>\n",
              "      <td>0.153320</td>\n",
              "      <td>-0.005005</td>\n",
              "      <td>-0.227539</td>\n",
              "      <td>0.010742</td>\n",
              "      <td>0.146484</td>\n",
              "      <td>0.192383</td>\n",
              "      <td>-0.082520</td>\n",
              "      <td>-0.078125</td>\n",
              "      <td>0.067871</td>\n",
              "      <td>0.081543</td>\n",
              "      <td>-0.008362</td>\n",
              "      <td>0.003998</td>\n",
              "      <td>0.021240</td>\n",
              "      <td>-0.320312</td>\n",
              "      <td>-0.174805</td>\n",
              "      <td>-0.006226</td>\n",
              "      <td>0.011108</td>\n",
              "      <td>0.052979</td>\n",
              "      <td>-0.100098</td>\n",
              "      <td>-0.030518</td>\n",
              "      <td>0.201172</td>\n",
              "      <td>0.122070</td>\n",
              "      <td>-0.018799</td>\n",
              "      <td>-0.004242</td>\n",
              "      <td>0.026123</td>\n",
              "      <td>-0.170898</td>\n",
              "      <td>0.207031</td>\n",
              "      <td>0.030151</td>\n",
              "      <td>-0.000664</td>\n",
              "      <td>-0.259766</td>\n",
              "      <td>-0.177734</td>\n",
              "      <td>0.289062</td>\n",
              "      <td>-0.289062</td>\n",
              "      <td>0.257812</td>\n",
              "      <td>-0.253906</td>\n",
              "      <td>-0.339844</td>\n",
              "      <td>0.161133</td>\n",
              "      <td>0.029297</td>\n",
              "      <td>0.198242</td>\n",
              "      <td>-0.059082</td>\n",
              "      <td>...</td>\n",
              "      <td>-0.470703</td>\n",
              "      <td>0.130859</td>\n",
              "      <td>0.163086</td>\n",
              "      <td>0.170898</td>\n",
              "      <td>0.019653</td>\n",
              "      <td>0.392578</td>\n",
              "      <td>-0.261719</td>\n",
              "      <td>-0.265625</td>\n",
              "      <td>-0.053223</td>\n",
              "      <td>-0.191406</td>\n",
              "      <td>0.068359</td>\n",
              "      <td>0.005371</td>\n",
              "      <td>0.212891</td>\n",
              "      <td>-0.140625</td>\n",
              "      <td>0.238281</td>\n",
              "      <td>0.166016</td>\n",
              "      <td>-0.049561</td>\n",
              "      <td>-0.016479</td>\n",
              "      <td>0.043945</td>\n",
              "      <td>-0.052246</td>\n",
              "      <td>-0.163086</td>\n",
              "      <td>0.039062</td>\n",
              "      <td>-0.160156</td>\n",
              "      <td>0.095215</td>\n",
              "      <td>0.173828</td>\n",
              "      <td>0.081055</td>\n",
              "      <td>0.241211</td>\n",
              "      <td>-0.166016</td>\n",
              "      <td>0.012634</td>\n",
              "      <td>0.248047</td>\n",
              "      <td>-0.304688</td>\n",
              "      <td>0.072754</td>\n",
              "      <td>-0.107910</td>\n",
              "      <td>0.041992</td>\n",
              "      <td>0.032959</td>\n",
              "      <td>-0.310547</td>\n",
              "      <td>-0.135742</td>\n",
              "      <td>-0.024536</td>\n",
              "      <td>-0.027588</td>\n",
              "      <td>-0.166992</td>\n",
              "    </tr>\n",
              "  </tbody>\n",
              "</table>\n",
              "<p>3 rows × 300 columns</p>\n",
              "</div>"
            ],
            "text/plain": [
              "              0         1         2    ...       297       298       299\n",
              "support -0.089844 -0.147461 -0.049561  ...  0.182617 -0.032227  0.048096\n",
              "import   0.206055  0.227539 -0.213867  ... -0.073242 -0.001350 -0.120117\n",
              "studio   0.153320 -0.005005 -0.227539  ... -0.024536 -0.027588 -0.166992\n",
              "\n",
              "[3 rows x 300 columns]"
            ]
          },
          "metadata": {
            "tags": []
          },
          "execution_count": 22
        }
      ]
    },
    {
      "cell_type": "code",
      "metadata": {
        "id": "IFWCW_Qmqktq",
        "colab_type": "code",
        "outputId": "c156a3fd-5bd2-4ccb-aa37-56d59d449c6a",
        "colab": {
          "base_uri": "https://localhost:8080/",
          "height": 35
        }
      },
      "source": [
        "# Vocabulary\n",
        "vocabulary = set(words) # list of unique words\n",
        "vocabulary_size = len(vocabulary)\n",
        "vocabulary_size"
      ],
      "execution_count": 0,
      "outputs": [
        {
          "output_type": "execute_result",
          "data": {
            "text/plain": [
              "1270"
            ]
          },
          "metadata": {
            "tags": []
          },
          "execution_count": 23
        }
      ]
    },
    {
      "cell_type": "code",
      "metadata": {
        "id": "OeRaact5A21z",
        "colab_type": "code",
        "outputId": "0bb92a7d-101b-4f3b-d9a4-20b637d0a254",
        "colab": {
          "base_uri": "https://localhost:8080/",
          "height": 35
        }
      },
      "source": [
        "# Total Number of Words\n",
        "len(words)\n",
        "\n"
      ],
      "execution_count": 0,
      "outputs": [
        {
          "output_type": "execute_result",
          "data": {
            "text/plain": [
              "4531"
            ]
          },
          "metadata": {
            "tags": []
          },
          "execution_count": 26
        }
      ]
    },
    {
      "cell_type": "code",
      "metadata": {
        "id": "Eoe7uNnJBP57",
        "colab_type": "code",
        "outputId": "10303085-4dd1-403f-9fc7-b4137b195068",
        "colab": {
          "base_uri": "https://localhost:8080/",
          "height": 338
        }
      },
      "source": [
        "# Frequency Distribution of Words Plot\n",
        "from nltk.probability import FreqDist\n",
        "fdist = FreqDist(words)\n",
        "import matplotlib.pyplot as plt\n",
        "fdist.plot(30,cumulative=False)\n",
        "plt.show()"
      ],
      "execution_count": 0,
      "outputs": [
        {
          "output_type": "display_data",
          "data": {
            "image/png": "[encoded data removed]",
            "text/plain": [
              "<Figure size 432x288 with 1 Axes>"
            ]
          },
          "metadata": {
            "tags": []
          }
        }
      ]
    },
    {
      "cell_type": "code",
      "metadata": {
        "id": "oEQF8jyfOHSs",
        "colab_type": "code",
        "outputId": "bac1d114-fb0d-42f5-f1e3-d244c10d5f71",
        "colab": {
          "base_uri": "https://localhost:8080/",
          "height": 500
        }
      },
      "source": [
        "# Dimentionality Reduction\n",
        "from sklearn.manifold import TSNE\n",
        "\n",
        "# Initialize t-SNE\n",
        "tsne = TSNE(n_components = 2, init = 'random', random_state = 10, perplexity = 100)\n",
        "# Use only 400 rows to shorten processing time\n",
        "tsne_df = tsne.fit_transform(df[:400])\n",
        "\n",
        "# Plot\n",
        "import seaborn as sns\n",
        "sns.set()# Initialize figure\n",
        "fig, ax = plt.subplots(figsize = (11.7, 8.27))\n",
        "sns.scatterplot(tsne_df[:, 0], tsne_df[:, 1], alpha = 0.5)\n",
        "\n",
        "# Import adjustText, initialize list of texts\n",
        "#from adjustText import adjust_text\n",
        "texts = []\n",
        "words_to_plot = list(np.arange(0, 400, 10))\n",
        "\n",
        "# Append words to list\n",
        "for word in words_to_plot:\n",
        "    texts.append(plt.text(tsne_df[word, 0], tsne_df[word, 1], df.index[word], fontsize = 14))\n",
        "    \n",
        "# Plot text using adjust_text (because overlapping text is hard to read)\n",
        "'''\n",
        "adjust_text(texts, force_points = 0.4, force_text = 0.4, \n",
        "            expand_points = (2,1), expand_text = (1,2),\n",
        "            arrowprops = dict(arrowstyle = \"-\", color = 'black', lw = 0.5))\n",
        "'''\n",
        "plt.show()"
      ],
      "execution_count": 0,
      "outputs": [
        {
          "output_type": "display_data",
          "data": {
            "image/png": "[encoded data removed]",
            "text/plain": [
              "<Figure size 842.4x595.44 with 1 Axes>"
            ]
          },
          "metadata": {
            "tags": []
          }
        }
      ]
    },
    {
      "cell_type": "code",
      "metadata": {
        "id": "5obddvrdfJEr",
        "colab_type": "code",
        "colab": {}
      },
      "source": [
        "raw_data['storypoint']"
      ],
      "execution_count": 0,
      "outputs": []
    },
    {
      "cell_type": "code",
      "metadata": {
        "id": "bSNDGC3cS8i3",
        "colab_type": "code",
        "colab": {}
      },
      "source": [
        "# Averaging Word Embeddings\n",
        "def document_vector(word2vec_model, doc):\n",
        "    # remove out-of-vocabulary words\n",
        "    doc = [word for word in doc if word in model.vocab]\n",
        "    return np.mean(model[doc], axis=0)\n",
        "\n",
        "# Our earlier preprocessing was done when we were dealing only with word vectors\n",
        "# Here, we need each document to remain a document \n",
        "def preprocess(text):\n",
        "    text = text.lower()\n",
        "    doc = word_tokenize(text)\n",
        "    doc = [word for word in doc if word not in stop_words]\n",
        "    doc = [word for word in doc if word.isalpha()] \n",
        "    return doc\n",
        "\n",
        "# Function that will help us drop documents that have no word vectors in word2vec\n",
        "def has_vector_representation(word2vec_model, doc):\n",
        "    \"\"\"check if at least one word of the document is in the\n",
        "    word2vec dictionary\"\"\"\n",
        "    return not all(word not in word2vec_model.vocab for word in doc)\n",
        "\n",
        "# Filter out documents\n",
        "def filter_docs(corpus, texts, condition_on_doc):\n",
        "    \"\"\"\n",
        "    Filter corpus and texts given the function condition_on_doc which takes a doc. The document doc is kept if condition_on_doc(doc) is true.\n",
        "    \"\"\"\n",
        "    number_of_docs = len(corpus)\n",
        "\n",
        "    if texts is not None:\n",
        "        texts = [text for (text, doc) in zip(texts, corpus)\n",
        "                 if condition_on_doc(doc)]\n",
        "\n",
        "    corpus = [doc for doc in corpus if condition_on_doc(doc)]\n",
        "\n",
        "    print(\"{} docs removed\".format(number_of_docs - len(corpus)))\n",
        "\n",
        "    return (corpus, texts)"
      ],
      "execution_count": 0,
      "outputs": []
    },
    {
      "cell_type": "code",
      "metadata": {
        "id": "0aUMd0sefCfl",
        "colab_type": "code",
        "outputId": "2d3740e2-bdb4-402c-c23a-71c7a3ec912e",
        "colab": {
          "base_uri": "https://localhost:8080/",
          "height": 35
        }
      },
      "source": [
        "raw_data['storypoint'][0]"
      ],
      "execution_count": 0,
      "outputs": [
        {
          "output_type": "execute_result",
          "data": {
            "text/plain": [
              "13"
            ]
          },
          "metadata": {
            "tags": []
          },
          "execution_count": 80
        }
      ]
    },
    {
      "cell_type": "code",
      "metadata": {
        "id": "FPfdl3qiTZIZ",
        "colab_type": "code",
        "colab": {}
      },
      "source": [
        "# Preprocess the corpus\n",
        "def preprocessing(data_list):\n",
        "  corpus = [preprocess(title) for title in data_list]\n",
        "\n",
        "  # Remove docs that don't include any words in W2V's vocab\n",
        "  corpus, data_list = filter_docs(corpus, data_list, lambda doc: has_vector_representation(model, doc))\n",
        "\n",
        "  # Filter out any empty docs\n",
        "  corpus, data_list = filter_docs(corpus, data_list, lambda doc: (len(doc) != 0))\n",
        "\n",
        "  y = []\n",
        "  x = []\n",
        "  for doc in corpus: # append the vector for each document\n",
        "      #print(corpus.index(doc))\n",
        "      x.append(document_vector(model, doc))\n",
        "      y.append(raw_data['storypoint'][corpus.index(doc)])\n",
        "      \n",
        "  X = np.array(x) # list to array\n",
        "  y = np.array(y)\n",
        "  return X, y\n"
      ],
      "execution_count": 0,
      "outputs": []
    },
    {
      "cell_type": "code",
      "metadata": {
        "id": "JL_LxUkOdjhu",
        "colab_type": "code",
        "outputId": "f449905a-9cc7-4b24-de10-78b6e9d6d52c",
        "colab": {
          "base_uri": "https://localhost:8080/",
          "height": 89
        }
      },
      "source": [
        "# Titles\n",
        "X = preprocessing(titles_list)[0]\n",
        "y = preprocessing(titles_list)[1]"
      ],
      "execution_count": 0,
      "outputs": [
        {
          "output_type": "stream",
          "text": [
            "0 docs removed\n",
            "0 docs removed\n",
            "0 docs removed\n",
            "0 docs removed\n"
          ],
          "name": "stdout"
        }
      ]
    },
    {
      "cell_type": "code",
      "metadata": {
        "id": "CKjZXX5MUBrU",
        "colab_type": "code",
        "colab": {}
      },
      "source": [
        "\n",
        "# 80% of data goes to training\n",
        "from sklearn.model_selection import train_test_split\n",
        "X_train, X_test, y_train, y_test = train_test_split(X, y, test_size = 0.2, random_state = 10)\n"
      ],
      "execution_count": 0,
      "outputs": []
    },
    {
      "cell_type": "markdown",
      "metadata": {
        "id": "g4dJ64r2YP34",
        "colab_type": "text"
      },
      "source": [
        "XGBRegressor - using Titles of software issues/requests as data"
      ]
    },
    {
      "cell_type": "code",
      "metadata": {
        "id": "An185tj6UZ1C",
        "colab_type": "code",
        "outputId": "e6c2e3a5-5503-405e-8021-3d69e5094939",
        "colab": {
          "base_uri": "https://localhost:8080/",
          "height": 53
        }
      },
      "source": [
        "from sklearn.metrics import mean_squared_error\n",
        "import xgboost as xgb\n",
        "# Instantiate an XGBRegressor\n",
        "xgr = xgb.XGBRegressor(random_state=2)\n",
        "\n",
        "# Fit the classifier to the training set\n",
        "xgr.fit(X_train, y_train)\n",
        "\n",
        "y_pred = xgr.predict(X_test)\n",
        "\n",
        "mean_squared_error(y_test, y_pred)\n",
        "\n",
        "# Accuracy\n",
        "y_pred_rounded = [round(prediction,0) for prediction in y_pred ]\n",
        "y_pred_rounded = [int(prediction) for prediction in y_pred_rounded]\n",
        "\n",
        "from sklearn import metrics\n",
        "acc_score = metrics.accuracy_score(y_test, y_pred_rounded)\n",
        "print('Total accuracy classification score: {}'.format(acc_score))"
      ],
      "execution_count": 0,
      "outputs": [
        {
          "output_type": "stream",
          "text": [
            "[20:53:14] WARNING: /workspace/src/objective/regression_obj.cu:152: reg:linear is now deprecated in favor of reg:squarederror.\n",
            "Total accuracy classification score: 0.17006802721088435\n"
          ],
          "name": "stdout"
        }
      ]
    },
    {
      "cell_type": "markdown",
      "metadata": {
        "id": "EF3Hu53dYRhE",
        "colab_type": "text"
      },
      "source": [
        "GaussianNB - - using Titles of software issues/requests as data"
      ]
    },
    {
      "cell_type": "code",
      "metadata": {
        "id": "28xVzDV7VFMk",
        "colab_type": "code",
        "outputId": "5bc46355-d7b8-4049-e735-984e9e9de870",
        "colab": {
          "base_uri": "https://localhost:8080/",
          "height": 35
        }
      },
      "source": [
        "# Build the classifier\n",
        "from sklearn.naive_bayes import GaussianNB\n",
        "clf = GaussianNB()\n",
        "\n",
        "# Fit the classifier to the training set\n",
        "clf.fit(X_train, y_train)\n",
        "y_pred = clf.predict(X_test)\n",
        "\n",
        "# Accuracy\n",
        "from sklearn import metrics\n",
        "acc_score = metrics.accuracy_score(y_test, y_pred)\n",
        "print('Total accuracy classification score: {}'.format(acc_score))\n"
      ],
      "execution_count": 0,
      "outputs": [
        {
          "output_type": "stream",
          "text": [
            "Total accuracy classification score: 0.1836734693877551\n"
          ],
          "name": "stdout"
        }
      ]
    },
    {
      "cell_type": "markdown",
      "metadata": {
        "id": "mT3WtmMIg-cc",
        "colab_type": "text"
      },
      "source": [
        "Using Descriptions of sotware issues/requests as data"
      ]
    },
    {
      "cell_type": "code",
      "metadata": {
        "id": "4ijKXyELguar",
        "colab_type": "code",
        "outputId": "f9a382a4-5a7d-499e-ce82-88038cfbb614",
        "colab": {
          "base_uri": "https://localhost:8080/",
          "height": 89
        }
      },
      "source": [
        "# Descriptions\n",
        "X = preprocessing(descriptions_list)[0]\n",
        "y = preprocessing(descriptions_list)[1]"
      ],
      "execution_count": 0,
      "outputs": [
        {
          "output_type": "stream",
          "text": [
            "2 docs removed\n",
            "0 docs removed\n",
            "2 docs removed\n",
            "0 docs removed\n"
          ],
          "name": "stdout"
        }
      ]
    },
    {
      "cell_type": "code",
      "metadata": {
        "colab_type": "code",
        "id": "eNRlUIwPhPsf",
        "colab": {}
      },
      "source": [
        "\n",
        "# 80% of data goes to training\n",
        "from sklearn.model_selection import train_test_split\n",
        "X_train, X_test, y_train, y_test = train_test_split(X, y, test_size = 0.2, random_state = 10)\n"
      ],
      "execution_count": 0,
      "outputs": []
    },
    {
      "cell_type": "code",
      "metadata": {
        "colab_type": "code",
        "outputId": "243bff81-e8ae-4f19-a734-dca2d0e14e04",
        "id": "giCa6_qng8WF",
        "colab": {
          "base_uri": "https://localhost:8080/",
          "height": 53
        }
      },
      "source": [
        "from sklearn.metrics import mean_squared_error\n",
        "import xgboost as xgb\n",
        "# Instantiate an XGBRegressor\n",
        "xgr = xgb.XGBRegressor(random_state=2)\n",
        "\n",
        "# Fit the classifier to the training set\n",
        "xgr.fit(X_train, y_train)\n",
        "\n",
        "y_pred = xgr.predict(X_test)\n",
        "\n",
        "mean_squared_error(y_test, y_pred)\n",
        "\n",
        "# Accuracy\n",
        "y_pred_rounded = [round(prediction,0) for prediction in y_pred ]\n",
        "y_pred_rounded = [int(prediction) for prediction in y_pred_rounded]\n",
        "\n",
        "from sklearn import metrics\n",
        "acc_score = metrics.accuracy_score(y_test, y_pred_rounded)\n",
        "print('Total accuracy classification score: {}'.format(acc_score))"
      ],
      "execution_count": 0,
      "outputs": [
        {
          "output_type": "stream",
          "text": [
            "[20:53:29] WARNING: /workspace/src/objective/regression_obj.cu:152: reg:linear is now deprecated in favor of reg:squarederror.\n",
            "Total accuracy classification score: 0.14383561643835616\n"
          ],
          "name": "stdout"
        }
      ]
    },
    {
      "cell_type": "code",
      "metadata": {
        "colab_type": "code",
        "outputId": "6149c67d-7867-499c-c742-07e8aeae4602",
        "id": "_KVUtnrehIQy",
        "colab": {
          "base_uri": "https://localhost:8080/",
          "height": 35
        }
      },
      "source": [
        "# Build the classifier\n",
        "from sklearn.naive_bayes import GaussianNB\n",
        "clf = GaussianNB()\n",
        "\n",
        "# Fit the classifier to the training set\n",
        "clf.fit(X_train, y_train)\n",
        "y_pred = clf.predict(X_test)\n",
        "\n",
        "# Accuracy\n",
        "from sklearn import metrics\n",
        "acc_score = metrics.accuracy_score(y_test, y_pred)\n",
        "print('Total accuracy classification score: {}'.format(acc_score))\n"
      ],
      "execution_count": 0,
      "outputs": [
        {
          "output_type": "stream",
          "text": [
            "Total accuracy classification score: 0.19863013698630136\n"
          ],
          "name": "stdout"
        }
      ]
    },
    {
      "cell_type": "code",
      "metadata": {
        "id": "WNu1-LKomOwE",
        "colab_type": "code",
        "outputId": "04bcc957-95d0-47cc-bcd3-3658a9079b59",
        "colab": {
          "base_uri": "https://localhost:8080/",
          "height": 340
        }
      },
      "source": [
        "y_pred, y_test"
      ],
      "execution_count": 0,
      "outputs": [
        {
          "output_type": "execute_result",
          "data": {
            "text/plain": [
              "(array([ 5,  1,  3,  3,  1,  1, 13,  1,  3,  5, 34,  3,  1,  5,  8,  1,  5,\n",
              "         1,  5, 34,  1,  5,  2, 34,  8,  1, 34,  1,  1,  1, 13, 34,  2,  1,\n",
              "         1,  5,  1, 21, 13,  2,  5,  1, 21,  3,  1, 21,  1,  1, 34, 13,  1,\n",
              "         2,  1,  1,  5,  5,  5,  5, 13, 21,  3,  5,  1,  5,  5,  1,  2,  5,\n",
              "         1,  5,  1,  1,  3,  8,  1,  8,  5,  1,  5,  1,  1,  1,  1,  5,  5,\n",
              "         1,  1,  2,  1, 21,  1, 13, 34, 34, 21, 21,  2, 21,  5,  1,  2,  3,\n",
              "         1,  1,  1,  3,  3,  5,  5,  5, 21,  1,  1,  1,  5, 21, 34,  8,  5,\n",
              "         8,  5,  2,  1, 34,  1,  2,  1,  1,  5, 21,  3,  1,  1,  1,  1,  1,\n",
              "         2,  1,  1, 21,  1,  1, 21,  1,  1,  1]),\n",
              " array([13,  1,  8, 13,  5,  8, 13,  5,  5,  5,  3, 13,  5, 13,  8,  5,  5,\n",
              "         1, 34,  3,  5,  2,  3, 13,  8,  2,  8,  5,  8,  2,  8,  8,  5,  8,\n",
              "         3,  5,  1,  5,  5,  8,  2,  5, 21,  8,  1,  3, 13,  3,  8, 13,  3,\n",
              "         8,  5,  8,  3, 13,  5,  5,  3,  5,  8,  8,  5,  1,  8,  8,  1,  3,\n",
              "         8,  5, 21,  8,  1,  3,  8,  8,  8,  1,  8,  5,  8,  5,  1, 13,  5,\n",
              "        34,  5,  1,  5,  5,  5, 13,  5,  5,  2,  3,  2,  2,  8,  3,  5,  3,\n",
              "         5,  2,  5,  5,  3,  5,  5,  8,  3,  1,  3,  5,  5,  2,  8,  5,  5,\n",
              "         5,  1, 13,  5,  2,  8,  8,  2, 21,  5,  5,  5,  5,  5,  8,  8,  8,\n",
              "         3,  8,  3,  5,  2,  5, 13,  8,  8,  8]))"
            ]
          },
          "metadata": {
            "tags": []
          },
          "execution_count": 115
        }
      ]
    }
  ]
}